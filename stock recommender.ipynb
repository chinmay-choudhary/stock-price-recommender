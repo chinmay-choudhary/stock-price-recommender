{
 "cells": [
  {
   "cell_type": "markdown",
   "metadata": {},
   "source": [
    "# Time Series Modelling of Stock Data\n",
    "#### Performing Univariate and Multivariate Time Series Analysis \n",
    "##### on Stock Data of Reliance Industries from the date '2020-04-01' to '2022-03-30'"
   ]
  },
  {
   "cell_type": "code",
   "execution_count": null,
   "metadata": {},
   "outputs": [],
   "source": [
    "import pandas as pd\n",
    "import numpy as np\n",
    "import matplotlib as mat\n",
    "import matplotlib.pyplot as plt\n",
    "import matplotlib.dates as mdates\n",
    "import seaborn as sns\n",
    "from statsmodels.tsa.stattools import adfuller\n",
    "from sklearn.metrics import mean_absolute_error, mean_squared_error\n",
    "from sklearn.preprocessing import MinMaxScaler\n",
    "from keras.models import Sequential\n",
    "from keras.layers import Dense, LSTM"
   ]
  },
  {
   "cell_type": "markdown",
   "metadata": {},
   "source": [
    "##### Importing the DataSet"
   ]
  },
  {
   "cell_type": "code",
   "execution_count": null,
   "metadata": {},
   "outputs": [],
   "source": [
    "df = pd.read_csv('RELIANCE.csv')\n",
    "df.rename(columns= {\"Date\" : \"date\",\"Open\" : \"open\" , \"High\" : \"high\" , \"Low\":\"low\",\"Close\":\"close\",\"Adj Close\":\"adj_close\",\"Volume\":\"volume\"},inplace= True)\n",
    "df['date'] = pd.to_datetime(df['date'])\n",
    "df.tail()"
   ]
  },
  {
   "cell_type": "markdown",
   "metadata": {},
   "source": [
    "##### Checking for Missing Values and Zeroes"
   ]
  },
  {
   "cell_type": "code",
   "execution_count": null,
   "metadata": {},
   "outputs": [],
   "source": [
    "null_values = df.isnull().sum()\n",
    "NaN_values = df.isna().sum()\n",
    "zero_values = 0 in df\n",
    "\n",
    "print( 'Null values in Stock Data = ','\\n', null_values)\n",
    "print( 'NaN values in Stock Data = ','\\n', NaN_values)\n",
    "print( 'Zeroes in Stock Data = ', zero_values)"
   ]
  },
  {
   "cell_type": "markdown",
   "metadata": {},
   "source": [
    "##### Exploratory Data Analysis"
   ]
  },
  {
   "cell_type": "code",
   "execution_count": null,
   "metadata": {},
   "outputs": [],
   "source": [
    "fig , (ax1,ax2) = plt.subplots(2,figsize = (15,12))\n",
    "ax1.plot(df['date'],df['open'], color = 'red' , label = 'Open Price')\n",
    "ax1.set_xlabel('Date in (mm-yy)')\n",
    "ax1.set_ylabel('Opening Price in ₹')\n",
    "ax1.xaxis.set_major_locator(mdates.MonthLocator(interval=4))\n",
    "ax1.xaxis.set_major_formatter(mdates.DateFormatter('%m-%Y'))\n",
    "ax1.legend(loc = 'upper left')\n",
    "\n",
    "ax2.plot(df['date'],df['close'], color = 'blue',label = 'Close Price')\n",
    "ax2.xaxis.set_major_locator(mdates.MonthLocator(interval=4))\n",
    "ax2.xaxis.set_major_formatter(mdates.DateFormatter('%m-%Y'))\n",
    "ax2.set_xlabel('Date in (mm-yy)')\n",
    "ax2.set_ylabel('Closing Price in ₹')\n",
    "ax2.legend(loc = 'upper left')\n",
    "fig.tight_layout()"
   ]
  },
  {
   "cell_type": "code",
   "execution_count": null,
   "metadata": {},
   "outputs": [],
   "source": [
    "fig , (ax0,ax_1) = plt.subplots(2,figsize = (15,12))\n",
    "ax0.plot(df['date'],df['high'], color = 'red' , label = 'High Price')\n",
    "ax0.set_xlabel('Date in (mm-yy)')\n",
    "ax0.set_ylabel('High Price in ₹')\n",
    "ax0.xaxis.set_major_locator(mdates.MonthLocator(interval=4))\n",
    "ax0.xaxis.set_major_formatter(mdates.DateFormatter('%m-%Y'))\n",
    "ax0.legend(loc = 'upper left')\n",
    "\n",
    "\n",
    "ax_1.plot(df['date'],df['low'], color = 'blue',label = 'Min Price')\n",
    "ax_1.xaxis.set_major_locator(mdates.MonthLocator(interval=4))\n",
    "ax_1.xaxis.set_major_formatter(mdates.DateFormatter('%m-%Y'))\n",
    "ax_1.set_xlabel('Date in (mm-yy)')\n",
    "ax_1.set_ylabel('Minimum Price in ₹')\n",
    "ax_1.legend(loc = 'upper left')\n",
    "\n",
    "fig.tight_layout()"
   ]
  },
  {
   "cell_type": "code",
   "execution_count": null,
   "metadata": {},
   "outputs": [],
   "source": [
    "fig , ax = plt.subplots(figsize = (15,12))\n",
    "ax.plot(df['date'],df['volume'],color = 'black',label = 'Volume')\n",
    "ax.set_xlabel('Date in (mm-yy)')\n",
    "ax.set_ylabel('Volume of Stock Traded Each Day (10^7)')\n",
    "ax.xaxis.set_major_locator(mdates.MonthLocator(interval=4))\n",
    "ax.xaxis.set_major_formatter(mdates.DateFormatter('%m-%y'))\n",
    "ax.legend(loc = 'upper right')"
   ]
  },
  {
   "cell_type": "code",
   "execution_count": null,
   "metadata": {},
   "outputs": [],
   "source": [
    "\n",
    "monthwise = df.groupby(df['date'].dt.strftime('%B'))[['open','close']].mean()\n",
    "order = ['January', 'February', 'March', 'April', 'May', 'June', 'July', 'August', \n",
    "             'September', 'October', 'November', 'December']\n",
    "monthwise.index.names = ['month']\n",
    "monthwise = monthwise.reindex(order)\n",
    "monthwise"
   ]
  },
  {
   "cell_type": "code",
   "execution_count": null,
   "metadata": {},
   "outputs": [],
   "source": [
    "\n",
    "monthwise_max = df.groupby(df['date'].dt.strftime('%B'))[['open','close']].max()\n",
    "order = ['January', 'February', 'March', 'April', 'May', 'June', 'July', 'August', \n",
    "             'September', 'October', 'November', 'December']\n",
    "monthwise_max.index.names = ['month']\n",
    "monthwise_max = monthwise_max.reindex(order)\n",
    "monthwise_max"
   ]
  },
  {
   "cell_type": "code",
   "execution_count": null,
   "metadata": {},
   "outputs": [],
   "source": [
    "\n",
    "monthwise_min = df.groupby(df['date'].dt.strftime('%B'))[['open','close']].min()\n",
    "order = ['January', 'February', 'March', 'April', 'May', 'June', 'July', 'August', \n",
    "             'September', 'October', 'November', 'December']\n",
    "monthwise_min.index.names = ['month']\n",
    "monthwise_min = monthwise_min.reindex(order)\n",
    "monthwise_min"
   ]
  },
  {
   "cell_type": "code",
   "execution_count": null,
   "metadata": {},
   "outputs": [],
   "source": [
    "label = monthwise.index\n",
    "x = np.arange(len(label))\n",
    "width = 0.2\n",
    "fig , (ax3,ax4,ax5) = plt.subplots(3,figsize = (15,12))\n",
    "ax3.bar(x-width/2, monthwise['open'],width,label = 'Open' )\n",
    "ax3.bar(x+width/2,monthwise['close'],width, label = 'close')\n",
    "ax3.set_xlabel('Month')\n",
    "ax3.set_ylabel('Average Monthly Price in ₹')\n",
    "ax3.set_xticks(x)\n",
    "ax3.set_xticklabels(label)\n",
    "ax3.legend( loc='upper right')\n",
    "\n",
    "ax4.bar(x-width/2, monthwise_max['open'],width,label = 'Open',color = 'blue' )\n",
    "ax4.bar(x+width/2,monthwise_max['close'],width, label = 'close',color = 'red')\n",
    "ax4.set_xlabel('Month')\n",
    "ax4.set_ylabel('Maximum Monthly Price in ₹')\n",
    "ax4.set_xticks(x)\n",
    "ax4.set_xticklabels(label)\n",
    "ax4.legend( loc='upper right')\n",
    "\n",
    "\n",
    "ax5.bar(x-width/2, monthwise_min['open'],width,label = 'Open',color = 'green' )\n",
    "ax5.bar(x+width/2,monthwise_min['close'],width, label = 'close',color = 'yellow')\n",
    "ax5.set_xlabel('Month')\n",
    "ax5.set_ylabel('Minimum Monthly Price in ₹')\n",
    "ax5.set_xticks(x)\n",
    "ax5.set_xticklabels(label)\n",
    "ax5.legend( loc='upper right')\n",
    "\n",
    "fig.tight_layout()"
   ]
  },
  {
   "cell_type": "markdown",
   "metadata": {},
   "source": [
    "#### Checking for Stationarity of Time Series"
   ]
  },
  {
   "cell_type": "code",
   "execution_count": null,
   "metadata": {},
   "outputs": [],
   "source": [
    "rolling_window = 7\n",
    "fig,(ax,ax1,ax2) = plt.subplots(3,figsize = (15,12))\n",
    "sns.lineplot( x = df['date'], y = df['open'] , ax = ax, color = 'blue' ,label = 'Open Price')\n",
    "sns.lineplot(x = df['date'], y = df['open'].rolling(rolling_window).mean(), ax = ax,color = 'yellow',label = 'Rolling Mean' )\n",
    "sns.lineplot(x = df['date'], y = df['open'].rolling(rolling_window).std(), ax = ax,color = 'black' , label = 'Rolling Standard Deviation' )\n",
    "ax.xaxis.set_major_locator(mdates.MonthLocator(interval=4))\n",
    "ax.xaxis.set_major_formatter(mdates.DateFormatter('%m-%y'))\n",
    "ax.set_title('Open Price with Rolling Mean and Standard Deviation')\n",
    "ax.legend(loc = 'upper left')\n",
    "\n",
    "\n",
    "sns.lineplot( x = df['date'], y = df['close'] , ax = ax1, color = 'red' ,label = 'Close Price')\n",
    "sns.lineplot(x = df['date'], y = df['close'].rolling(rolling_window).mean(), ax = ax1,color = 'yellow',label = 'Rolling Mean' )\n",
    "sns.lineplot(x = df['date'], y = df['close'].rolling(rolling_window).std(), ax = ax1,color = 'black' , label = 'Rolling Standard Deviation' )\n",
    "ax1.xaxis.set_major_locator(mdates.MonthLocator(interval=4))\n",
    "ax1.xaxis.set_major_formatter(mdates.DateFormatter('%m-%y'))\n",
    "ax1.set_title('Closing Price with Rolling Mean and Standard Deviation')\n",
    "ax1.legend(loc = 'upper left')\n",
    "\n",
    "sns.lineplot( x = df['date'], y = df['volume'] , ax = ax2, color = 'violet' ,label = 'Volume')\n",
    "sns.lineplot(x = df['date'], y = df['volume'].rolling(rolling_window).mean(), ax = ax2,color = 'yellow',label = 'Rolling Mean' )\n",
    "sns.lineplot(x = df['date'], y = df['volume'].rolling(rolling_window).std(), ax = ax2,color = 'black' , label = 'Rolling Standard Deviation' )\n",
    "ax2.xaxis.set_major_locator(mdates.MonthLocator(interval=4))\n",
    "ax2.xaxis.set_major_formatter(mdates.DateFormatter('%m-%y'))\n",
    "ax2.set_title('Volume Traded with Rolling Mean and Standard Deviation')\n",
    "ax2.legend(loc = 'upper right')\n",
    "\n",
    "\n",
    "fig.tight_layout()"
   ]
  },
  {
   "cell_type": "code",
   "execution_count": null,
   "metadata": {},
   "outputs": [],
   "source": [
    "#AUDF test\n",
    "fig , (ax,ax1,ax2) = plt.subplots(3,figsize = (15,12))\n",
    "def visualize_adfuller_results(series, title, ax):\n",
    "    result = adfuller(series)\n",
    "    significance_level = 0.05\n",
    "    adf_stat = result[0]\n",
    "    p_val = result[1]\n",
    "    crit_val_1 = result[4]['1%']\n",
    "    crit_val_5 = result[4]['5%']\n",
    "    crit_val_10 = result[4]['10%']\n",
    "\n",
    "    if (p_val < significance_level) & ((adf_stat < crit_val_1)):\n",
    "        linecolor = 'green' \n",
    "    elif (p_val < significance_level) & (adf_stat < crit_val_5):\n",
    "        linecolor = 'orange'\n",
    "    elif (p_val < significance_level) & (adf_stat < crit_val_10):\n",
    "        linecolor = 'red'\n",
    "    else:\n",
    "        linecolor = 'purple'\n",
    "    sns.lineplot(x=df['date'], y=series, ax=ax, color=linecolor)\n",
    "    ax.set_title(f'ADF Statistic {adf_stat:0.3f}, p-value: {p_val:0.3f}\\nCritical Values 1%: {crit_val_1:0.3f}, 5%: {crit_val_5:0.3f}, 10%: {crit_val_10:0.3f}')\n",
    "    ax.set_ylabel(ylabel=title)\n",
    "\n",
    "visualize_adfuller_results(df['open'].values, 'Open Price', ax)\n",
    "visualize_adfuller_results(df['close'].values, 'Close Price', ax1)\n",
    "visualize_adfuller_results(df['volume'].values, 'Volume', ax2)\n",
    "\n",
    "fig.tight_layout()\n"
   ]
  },
  {
   "cell_type": "markdown",
   "metadata": {},
   "source": [
    "## Univariate Time Series Modelling\n",
    "### Using Opening Price as Feature"
   ]
  },
  {
   "cell_type": "code",
   "execution_count": null,
   "metadata": {},
   "outputs": [],
   "source": [
    "train_size = int(0.8*len(df))\n",
    "test_size = len(df) - train_size\n",
    "sequence_length = 50\n",
    "\n",
    "scaler = MinMaxScaler()\n",
    "data = df.filter(['open'])\n",
    "scaled_data = scaler.fit_transform(data)\n",
    "\n",
    "\n",
    "train_data = scaled_data[0:train_size,:]\n",
    "test_data = scaled_data[train_size-sequence_length:,:]\n",
    "\n",
    "def create_train_test_split(data,sequence_length=1):\n",
    "    x , y =  [] , []\n",
    "    for i in range(sequence_length , data.shape[0]):\n",
    "        x.append(data[i-sequence_length:i,0])\n",
    "        y.append(data[i,0])\n",
    "    return np.array(x),np.array(y)\n",
    "\n",
    "x_train_uni ,y_train_uni = create_train_test_split(train_data,sequence_length)\n",
    "x_test_uni , y_test_uni = create_train_test_split(test_data,sequence_length)\n",
    "\n",
    "x_train_uni = np.reshape(x_train_uni,(x_train_uni.shape[0],1,x_train_uni.shape[1]))\n",
    "x_test_uni = np.reshape(x_test_uni,(x_test_uni.shape[0],1,x_test_uni.shape[1]))\n",
    "\n",
    "\n"
   ]
  },
  {
   "cell_type": "markdown",
   "metadata": {},
   "source": [
    "#### LSTM Modelling"
   ]
  },
  {
   "cell_type": "code",
   "execution_count": null,
   "metadata": {},
   "outputs": [],
   "source": [
    "model_LSTM = Sequential()\n",
    "\n",
    "n_neurons = x_train_uni.shape[1] * x_train_uni.shape[2]\n",
    "print(n_neurons, x_train_uni.shape[1], x_train_uni.shape[2])\n",
    "model_LSTM.add(LSTM(n_neurons, return_sequences=True, input_shape=(x_train_uni.shape[1], x_train_uni.shape[2]))) \n",
    "model_LSTM.add(LSTM(n_neurons, return_sequences=False))\n",
    "model_LSTM.add(Dense(10))\n",
    "model_LSTM.add(Dense(1))\n",
    "\n",
    "model_LSTM.compile(optimizer = 'adam' , loss = 'mean_squared_error')\n",
    "\n",
    "modeler = model_LSTM.fit(x_train_uni,y_train_uni,batch_size = 16,epochs = 20,validation_data = (x_test_uni,y_test_uni))\n",
    "\n"
   ]
  },
  {
   "cell_type": "code",
   "execution_count": null,
   "metadata": {},
   "outputs": [],
   "source": [
    "epochs = 20\n",
    "fig, ax = plt.subplots(figsize=(16, 5), sharex=True)\n",
    "sns.lineplot(data=modeler.history[\"loss\"])\n",
    "plt.title(\"Model loss\")\n",
    "plt.ylabel(\"Loss\")\n",
    "plt.xlabel(\"Epoch\")\n",
    "ax.xaxis.set_major_locator(plt.MaxNLocator(epochs))\n",
    "plt.legend([\"Train\", \"Test\"], loc=\"upper left\")\n",
    "plt.grid()\n",
    "plt.show()"
   ]
  },
  {
   "cell_type": "code",
   "execution_count": null,
   "metadata": {},
   "outputs": [],
   "source": [
    "Scaled_prediction_LSTM = model_LSTM.predict(x_test_uni)\n",
    "\n",
    "test_Pred_LSTM = scaler.inverse_transform(Scaled_prediction_LSTM)\n",
    "y_test_unscaled_LSTM = scaler.inverse_transform(y_test_uni.reshape(-1,1))\n",
    "\n",
    "# Mean Absolute Error (MAE)\n",
    "MAE = mean_absolute_error(y_test_unscaled_LSTM, test_Pred_LSTM)\n",
    "print(f'Median Absolute Error (MAE): {np.round(MAE, 2)}')\n",
    "\n",
    "# Mean Absolute Percentage Error (MAPE)\n",
    "MAPE = np.mean((np.abs(np.subtract(y_test_unscaled_LSTM, test_Pred_LSTM)/ y_test_unscaled_LSTM))) * 100\n",
    "print(f'Mean Absolute Percentage Error (MAPE): {np.round(MAPE, 2)} %')\n",
    "\n",
    "# Median Absolute Percentage Error (MDAPE)\n",
    "MDAPE = np.median((np.abs(np.subtract(y_test_unscaled_LSTM, test_Pred_LSTM)/ y_test_unscaled_LSTM)) ) * 100\n",
    "print(f'Median Absolute Percentage Error (MDAPE): {np.round(MDAPE, 2)} %')\n",
    "\n"
   ]
  },
  {
   "cell_type": "code",
   "execution_count": null,
   "metadata": {},
   "outputs": [],
   "source": [
    "\n",
    "train = pd.DataFrame(df['open'][:train_size+1]).rename(columns={'open':'y_train'})\n",
    "test = pd.DataFrame(df['open'][train_size:]).rename(columns={'open':'y_test'})\n",
    "test.insert(1,\"y_pred\",test_Pred_LSTM,True)\n",
    "df_pred = pd.concat([train,test])\n",
    "\n",
    "fig, ax6 = plt.subplots(figsize = (15,12))\n",
    "sns.lineplot(data = df_pred[['y_train','y_pred','y_test']],linewidth = 1.0,dashes = False,ax = ax6)\n",
    "\n"
   ]
  },
  {
   "cell_type": "code",
   "execution_count": null,
   "metadata": {},
   "outputs": [],
   "source": [
    "opening_price_today = np.round(df['open'].iloc[-1],2)\n",
    "pred_opening_price_LSTM = np.round(test_Pred_LSTM.ravel()[0],2)\n",
    "change_percent = np.round(100 - (opening_price_today * 100)/pred_opening_price_LSTM, 2)\n",
    "\n",
    "end_date = df.index[-1]\n",
    "\n",
    "plus = '+'; minus = ''\n",
    "print(f'The Opening Price for Reliance Industries at {end_date} was ₹{opening_price_today}')\n",
    "print(f'The predicted Opening price by LSTM Time Series Modelling is ₹{pred_opening_price_LSTM} ({plus if change_percent > 0 else minus}{change_percent}%)')\n"
   ]
  },
  {
   "cell_type": "markdown",
   "metadata": {},
   "source": [
    "#### Multivariate Time Series Analysis\n",
    "##### Using Opening Price, Closing Price, High, Low, and Volume Traded as Features"
   ]
  },
  {
   "cell_type": "code",
   "execution_count": null,
   "metadata": {},
   "outputs": [],
   "source": [
    "multivariate_df = df.copy()\n",
    "multivariate_df.drop(['adj_close'],axis = 1,inplace = True)\n",
    "multivariate_df.set_index('date',inplace=True)"
   ]
  },
  {
   "cell_type": "code",
   "execution_count": null,
   "metadata": {},
   "outputs": [],
   "source": [
    "multivariate_unscaled_data = np.array(multivariate_df)\n",
    "multivariate_unscaled_data = np.reshape(multivariate_unscaled_data,(multivariate_df.shape[0],-1))\n",
    "multivariate_unscaled_data\n",
    "\n",
    "multi_scaler = MinMaxScaler()\n",
    "multivariate_scaled_data = multi_scaler.fit_transform(multivariate_unscaled_data)\n",
    "\n",
    "## Scaling Predictions\n",
    "multi_pred_scaler = MinMaxScaler()\n",
    "df_open = pd.DataFrame(df['open'])\n",
    "df_open_scaled = multi_pred_scaler.fit_transform(df_open)"
   ]
  },
  {
   "cell_type": "code",
   "execution_count": null,
   "metadata": {},
   "outputs": [],
   "source": [
    "sequence_length = 50\n",
    "\n",
    "multi_train_size = int(0.8*len(multivariate_scaled_data))\n",
    "\n",
    "multi_train_data = multivariate_scaled_data[0:multi_train_size,:]\n",
    "multi_test_data = multivariate_scaled_data[multi_train_size-sequence_length:,:]\n",
    "\n",
    "def create_train_test_split_multi(data_multi,sequence_length=1):\n",
    "    X , Y =  [] , []\n",
    "    for i in range(sequence_length , data_multi.shape[0]):\n",
    "        X.append(data_multi[i-sequence_length:i,:])\n",
    "        Y.append(data_multi[i,0])\n",
    "    return np.array(X),np.array(Y)\n",
    "\n",
    "multi_x_train , multi_y_train = create_train_test_split_multi(multi_train_data,sequence_length)\n",
    "multi_x_test , multi_y_test = create_train_test_split_multi(multi_test_data,sequence_length)\n",
    "\n",
    "print(multi_x_train.shape,multi_y_train.size)\n",
    "print(multi_x_test.shape, multi_y_test.shape)\n",
    "\n"
   ]
  },
  {
   "cell_type": "code",
   "execution_count": null,
   "metadata": {},
   "outputs": [],
   "source": [
    "multi_model = Sequential()\n",
    "\n",
    "multi_n_neurons = multi_x_train.shape[1] * multi_x_train.shape[2]\n",
    "multi_model.add(LSTM(multi_n_neurons,return_sequences=True,input_shape = (multi_x_train.shape[1] , multi_x_train.shape[2])))\n",
    "multi_model.add(LSTM(multi_n_neurons,return_sequences=False))\n",
    "multi_model.add(Dense(40))\n",
    "multi_model.add(Dense(1))\n",
    "\n",
    "multi_model.compile(optimizer='adam',loss = 'mse')\n",
    "\n",
    "\n",
    "multi_epochs = 60\n"
   ]
  },
  {
   "cell_type": "code",
   "execution_count": null,
   "metadata": {},
   "outputs": [],
   "source": [
    "multi_modeler = multi_model.fit(multi_x_train,multi_y_train,batch_size=16,epochs = multi_epochs,validation_data=(multi_x_test,multi_y_test))"
   ]
  },
  {
   "cell_type": "code",
   "execution_count": null,
   "metadata": {},
   "outputs": [],
   "source": [
    "fig,ax8 = plt.subplots(figsize = (15,12))\n",
    "\n",
    "epochs_multi = 20\n",
    "\n",
    "sns.lineplot(data=multi_modeler.history[\"loss\"])\n",
    "plt.title(\"Model loss\")\n",
    "plt.ylabel(\"Loss\")\n",
    "plt.xlabel(\"Epoch\")\n",
    "ax8.xaxis.set_major_locator(plt.MaxNLocator(epochs_multi))\n",
    "plt.legend([\"Train\", \"Test\"], loc=\"upper left\")\n",
    "plt.grid()\n",
    "plt.show()"
   ]
  },
  {
   "cell_type": "code",
   "execution_count": null,
   "metadata": {},
   "outputs": [],
   "source": [
    "Scaled_prediction_multi = multi_model.predict(multi_x_test)\n",
    "\n",
    "test_Pred_multi = multi_pred_scaler.inverse_transform(Scaled_prediction_multi)\n",
    "y_test_unscaled_multi = multi_pred_scaler.inverse_transform(multi_y_test.reshape(-1,1))\n",
    "\n"
   ]
  },
  {
   "cell_type": "code",
   "execution_count": null,
   "metadata": {},
   "outputs": [],
   "source": [
    "# Mean Absolute Error (MAE)\n",
    "MAE_multi = mean_absolute_error(y_test_unscaled_multi, test_Pred_multi)\n",
    "print(f'Median Absolute Error (MAE): {np.round(MAE_multi, 2)}')\n",
    "\n",
    "# Mean Absolute Percentage Error (MAPE)\n",
    "MAPE_multi = np.mean((np.abs(np.subtract(y_test_unscaled_multi, test_Pred_multi)/ y_test_unscaled_multi))) * 100\n",
    "print(f'Mean Absolute Percentage Error (MAPE): {np.round(MAPE_multi, 2)} %')\n",
    "\n",
    "# Median Absolute Percentage Error (MDAPE)\n",
    "MDAPE_multi = np.median((np.abs(np.subtract(y_test_unscaled_multi, test_Pred_multi)/ y_test_unscaled_multi)) ) * 100\n",
    "print(f'Median Absolute Percentage Error (MDAPE): {np.round(MDAPE_multi, 2)} %')"
   ]
  },
  {
   "cell_type": "code",
   "execution_count": null,
   "metadata": {},
   "outputs": [],
   "source": [
    "\n",
    "multi_train = pd.DataFrame(df['open'][:multi_train_size+1]).rename(columns={'open':'y_train'})\n",
    "test = pd.DataFrame(df['open'][multi_train_size:]).rename(columns={'open':'y_test'})\n",
    "test.insert(1,\"y_pred\",test_Pred_multi,True)\n",
    "df_pred_multi = pd.concat([train,test])\n",
    "\n",
    "fig, ax9 = plt.subplots(figsize = (15,12))\n",
    "sns.lineplot(data = df_pred[['y_train','y_pred','y_test']],linewidth = 1.0,dashes = False,ax = ax9)\n",
    "\n"
   ]
  },
  {
   "cell_type": "code",
   "execution_count": null,
   "metadata": {},
   "outputs": [],
   "source": [
    "pred_opening_price_multi = np.round(test_Pred_multi.ravel()[0],2)\n",
    "change_percent_multi = np.round(100 - (opening_price_today * 100)/pred_opening_price_multi, 2)\n",
    "\n",
    "end_date = df.index[-1]\n",
    "\n",
    "plus = '+'; minus = ''\n",
    "print(f'The Opening Price for Reliance Industries at {end_date} was ₹{opening_price_today}')\n",
    "print(f'The predicted Opening price by LSTM Time Series Modelling is ₹{pred_opening_price_multi} ({plus if change_percent_multi > 0 else minus}{change_percent_multi}%)')\n"
   ]
  },
  {
   "cell_type": "code",
   "execution_count": null,
   "metadata": {},
   "outputs": [],
   "source": []
  }
 ],
 "metadata": {
  "kernelspec": {
   "display_name": "Python 3.10.8 64-bit (microsoft store)",
   "language": "python",
   "name": "python3"
  },
  "language_info": {
   "codemirror_mode": {
    "name": "ipython",
    "version": 3
   },
   "file_extension": ".py",
   "mimetype": "text/x-python",
   "name": "python",
   "nbconvert_exporter": "python",
   "pygments_lexer": "ipython3",
   "version": "3.11.0"
  },
  "orig_nbformat": 4,
  "vscode": {
   "interpreter": {
    "hash": "55b7d23a45fa6a7000bfa7bd06428baf2c7906617929f2321a72b3176f1b8b59"
   }
  }
 },
 "nbformat": 4,
 "nbformat_minor": 2
}
