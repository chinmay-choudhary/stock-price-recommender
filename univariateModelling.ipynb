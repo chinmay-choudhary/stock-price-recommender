{
 "cells": [
  {
   "cell_type": "code",
   "execution_count": 1,
   "metadata": {},
   "outputs": [],
   "source": [
    "import pandas as pd\n",
    "from sklearn.model_selection import train_test_split\n",
    "from sklearn.preprocessing import MinMaxScaler\n",
    "from sklearn.metrics import mean_absolute_error, mean_squared_error\n",
    "import numpy as np\n",
    "from keras.models import Sequential\n",
    "from keras.layers import Dense, LSTM\n",
    "from tensorflow.keras.callbacks import EarlyStopping, ReduceLROnPlateau\n",
    "from tensorflow.keras.optimizers.legacy import Adam\n",
    "import matplotlib.pyplot as plt\n",
    "import seaborn as sns\n",
    "import optuna\n",
    "import plotly.express as px\n",
    "import plotly.graph_objects as go\n",
    "from plotly.subplots import make_subplots"
   ]
  },
  {
   "cell_type": "code",
   "execution_count": 2,
   "metadata": {},
   "outputs": [],
   "source": [
    "df = pd.read_csv('aapl.csv')\n",
    "scaler = MinMaxScaler()\n",
    "scaledData = scaler.fit_transform(df['open'].values.reshape(-1, 1))\n",
    "\n",
    "def createTrainTestSplit(data, sequenceLength):\n",
    "    X, Y = [], []\n",
    "    for i in range(sequenceLength, len(data)):\n",
    "        X.append(data[i-sequenceLength:i, 0])\n",
    "        Y.append(data[i, 0])\n",
    "    return np.array(X), np.array(Y)\n",
    "\n",
    "\n",
    "feature, target = createTrainTestSplit(scaledData, 50)\n",
    "\n",
    "xTrain,xTest,yTrain,yTest = train_test_split(feature,\n",
    "                                                target,\n",
    "                                                test_size=0.2,\n",
    "                                                random_state=42,\n",
    "                                                shuffle=False)\n",
    "\n",
    "xTrainReshaped = np.reshape(xTrain, (xTrain.shape[0], 1, xTrain.shape[1]))\n",
    "xTestReshaped = np.reshape(xTest, (xTest.shape[0], 1, xTest.shape[1]))\n"
   ]
  },
  {
   "cell_type": "code",
   "execution_count": 6,
   "metadata": {},
   "outputs": [],
   "source": [
    "\n",
    "\n",
    "\n",
    "def objective(trial):\n",
    "\n",
    "    \n",
    "    nLstmLayers = trial.suggest_int('n_lstm_layers', 1, 6)\n",
    "    model = Sequential()\n",
    "    for i in range(nLstmLayers):\n",
    "        numHidden = trial.suggest_int(f'n_lstm_units_l{i}', 4, 512)\n",
    "        if i == 0:\n",
    "            model.add(LSTM(numHidden, return_sequences=True, input_shape=(xTrainReshaped.shape[1], xTrainReshaped.shape[2])))\n",
    "        else:\n",
    "            model.add(LSTM(numHidden,return_sequences=True))\n",
    "    numLastLSTM = trial.suggest_int(f'n__lstm_units_last{i+1}',4,64)\n",
    "    model.add(LSTM(numLastLSTM))\n",
    "\n",
    "    nDenseLayers = trial.suggest_int(f'n_dense_layers',1,4)\n",
    "    for i in range(nDenseLayers):\n",
    "        numHidden = trial.suggest_int(f'n_units_d{i}', 4, 512)\n",
    "        model.add(Dense(numHidden))\n",
    "    \n",
    "    model.add(Dense(1))\n",
    "    learningRate = trial.suggest_float(\n",
    "        \"learning_rate_init\", 1e-5, 1e-3, log=True\n",
    "    )\n",
    "    model.compile(optimizer=Adam(learning_rate=learningRate), loss='mean_squared_error')\n",
    "\n",
    "    earlyStopping = EarlyStopping(monitor='val_loss', patience=10, verbose=1, mode='min', restore_best_weights=True)\n",
    "    reduceLr = ReduceLROnPlateau(monitor='val_loss', factor=0.2, patience=5, verbose=1, mode='min')\n",
    "    batchSize = trial.suggest_categorical('batch_size', [4,16,64])\n",
    "    history = model.fit(xTrainReshaped, yTrain, batch_size=batchSize, verbose=0,epochs=100, validation_data=(xTestReshaped, yTest), callbacks=[earlyStopping, reduceLr])\n",
    "\n",
    "    valLoss = history.history['val_loss'][-1]\n",
    "\n",
    "    return valLoss\n",
    "\n"
   ]
  },
  {
   "cell_type": "code",
   "execution_count": 7,
   "metadata": {},
   "outputs": [
    {
     "name": "stderr",
     "output_type": "stream",
     "text": [
      "[I 2024-01-17 13:25:16,229] A new study created in RDB with name: univariateAnalysis\n"
     ]
    },
    {
     "name": "stdout",
     "output_type": "stream",
     "text": [
      "\n",
      "Epoch 8: ReduceLROnPlateau reducing learning rate to 1.5494966646656394e-05.\n",
      "Restoring model weights from the end of the best epoch: 3.\n",
      "\n",
      "Epoch 13: ReduceLROnPlateau reducing learning rate to 3.098993329331279e-06.\n",
      "Epoch 13: early stopping\n"
     ]
    },
    {
     "name": "stderr",
     "output_type": "stream",
     "text": [
      "[I 2024-01-17 13:25:24,184] Trial 0 finished with value: 0.0038712986279278994 and parameters: {'n_lstm_layers': 4, 'n_lstm_units_l0': 162, 'n_lstm_units_l1': 136, 'n_lstm_units_l2': 212, 'n_lstm_units_l3': 33, 'n__lstm_units_last4': 55, 'n_dense_layers': 2, 'n_units_d0': 363, 'n_units_d1': 449, 'learning_rate_init': 7.747483401767999e-05, 'batch_size': 21}. Best is trial 0 with value: 0.0038712986279278994.\n"
     ]
    },
    {
     "name": "stdout",
     "output_type": "stream",
     "text": [
      "\n",
      "Epoch 17: ReduceLROnPlateau reducing learning rate to 0.00010900713969022036.\n",
      "\n",
      "Epoch 27: ReduceLROnPlateau reducing learning rate to 2.180142764700577e-05.\n",
      "\n",
      "Epoch 36: ReduceLROnPlateau reducing learning rate to 4.3602856749203054e-06.\n",
      "\n",
      "Epoch 41: ReduceLROnPlateau reducing learning rate to 8.720571713638492e-07.\n",
      "Restoring model weights from the end of the best epoch: 35.\n",
      "Epoch 45: early stopping\n"
     ]
    },
    {
     "name": "stderr",
     "output_type": "stream",
     "text": [
      "[I 2024-01-17 13:26:16,012] Trial 1 finished with value: 0.0007606737199239433 and parameters: {'n_lstm_layers': 6, 'n_lstm_units_l0': 145, 'n_lstm_units_l1': 508, 'n_lstm_units_l2': 58, 'n_lstm_units_l3': 422, 'n_lstm_units_l4': 501, 'n_lstm_units_l5': 280, 'n__lstm_units_last6': 29, 'n_dense_layers': 1, 'n_units_d0': 256, 'learning_rate_init': 0.0005450357143680049, 'batch_size': 22}. Best is trial 1 with value: 0.0007606737199239433.\n"
     ]
    },
    {
     "name": "stdout",
     "output_type": "stream",
     "text": [
      "\n",
      "Epoch 28: ReduceLROnPlateau reducing learning rate to 2.029385905188974e-06.\n",
      "\n",
      "Epoch 33: ReduceLROnPlateau reducing learning rate to 4.0587719922768884e-07.\n",
      "\n",
      "Epoch 38: ReduceLROnPlateau reducing learning rate to 8.117543757180102e-08.\n",
      "Restoring model weights from the end of the best epoch: 33.\n",
      "\n",
      "Epoch 43: ReduceLROnPlateau reducing learning rate to 1.6235087230143108e-08.\n",
      "Epoch 43: early stopping\n"
     ]
    },
    {
     "name": "stderr",
     "output_type": "stream",
     "text": [
      "[I 2024-01-17 13:26:35,887] Trial 2 finished with value: 0.003691593185067177 and parameters: {'n_lstm_layers': 5, 'n_lstm_units_l0': 66, 'n_lstm_units_l1': 375, 'n_lstm_units_l2': 94, 'n_lstm_units_l3': 506, 'n_lstm_units_l4': 152, 'n__lstm_units_last5': 34, 'n_dense_layers': 3, 'n_units_d0': 271, 'n_units_d1': 339, 'n_units_d2': 463, 'learning_rate_init': 1.0146929834254293e-05, 'batch_size': 52}. Best is trial 1 with value: 0.0007606737199239433.\n"
     ]
    },
    {
     "name": "stdout",
     "output_type": "stream",
     "text": [
      "\n",
      "Epoch 33: ReduceLROnPlateau reducing learning rate to 5.054736902820878e-06.\n",
      "\n",
      "Epoch 43: ReduceLROnPlateau reducing learning rate to 1.0109473805641757e-06.\n",
      "\n",
      "Epoch 48: ReduceLROnPlateau reducing learning rate to 2.0218947156536162e-07.\n",
      "\n",
      "Epoch 53: ReduceLROnPlateau reducing learning rate to 4.0437893744638135e-08.\n",
      "\n",
      "Epoch 58: ReduceLROnPlateau reducing learning rate to 8.087578606819079e-09.\n",
      "\n",
      "Epoch 63: ReduceLROnPlateau reducing learning rate to 1.6175157213638159e-09.\n",
      "Restoring model weights from the end of the best epoch: 57.\n",
      "Epoch 67: early stopping\n"
     ]
    },
    {
     "name": "stderr",
     "output_type": "stream",
     "text": [
      "[I 2024-01-17 13:26:43,068] Trial 3 finished with value: 0.0037073707208037376 and parameters: {'n_lstm_layers': 1, 'n_lstm_units_l0': 63, 'n__lstm_units_last1': 39, 'n_dense_layers': 1, 'n_units_d0': 29, 'learning_rate_init': 2.5273684390109973e-05, 'batch_size': 21}. Best is trial 1 with value: 0.0007606737199239433.\n"
     ]
    },
    {
     "name": "stdout",
     "output_type": "stream",
     "text": [
      "\n",
      "Epoch 22: ReduceLROnPlateau reducing learning rate to 0.00018701974768191578.\n",
      "\n",
      "Epoch 27: ReduceLROnPlateau reducing learning rate to 3.740394895430655e-05.\n",
      "\n",
      "Epoch 33: ReduceLROnPlateau reducing learning rate to 7.4807896453421565e-06.\n",
      "\n",
      "Epoch 38: ReduceLROnPlateau reducing learning rate to 1.4961578926886432e-06.\n",
      "Restoring model weights from the end of the best epoch: 33.\n",
      "\n",
      "Epoch 43: ReduceLROnPlateau reducing learning rate to 2.9923157853772867e-07.\n",
      "Epoch 43: early stopping\n"
     ]
    },
    {
     "name": "stderr",
     "output_type": "stream",
     "text": [
      "[I 2024-01-17 13:26:56,720] Trial 4 finished with value: 0.0006437801639549434 and parameters: {'n_lstm_layers': 3, 'n_lstm_units_l0': 206, 'n_lstm_units_l1': 111, 'n_lstm_units_l2': 406, 'n__lstm_units_last3': 30, 'n_dense_layers': 2, 'n_units_d0': 25, 'n_units_d1': 406, 'learning_rate_init': 0.0009350987441764596, 'batch_size': 43}. Best is trial 4 with value: 0.0006437801639549434.\n"
     ]
    },
    {
     "name": "stdout",
     "output_type": "stream",
     "text": [
      "\n",
      "Epoch 22: ReduceLROnPlateau reducing learning rate to 3.731304022949189e-05.\n",
      "\n",
      "Epoch 29: ReduceLROnPlateau reducing learning rate to 7.462607754860073e-06.\n",
      "\n",
      "Epoch 34: ReduceLROnPlateau reducing learning rate to 1.4925215509720147e-06.\n",
      "Restoring model weights from the end of the best epoch: 28.\n",
      "Epoch 38: early stopping\n"
     ]
    },
    {
     "name": "stderr",
     "output_type": "stream",
     "text": [
      "[I 2024-01-17 13:27:04,986] Trial 5 finished with value: 0.0007095966138876975 and parameters: {'n_lstm_layers': 2, 'n_lstm_units_l0': 252, 'n_lstm_units_l1': 112, 'n__lstm_units_last2': 38, 'n_dense_layers': 3, 'n_units_d0': 95, 'n_units_d1': 306, 'n_units_d2': 103, 'learning_rate_init': 0.00018656519680295696, 'batch_size': 38}. Best is trial 4 with value: 0.0006437801639549434.\n"
     ]
    },
    {
     "name": "stdout",
     "output_type": "stream",
     "text": [
      "\n",
      "Epoch 27: ReduceLROnPlateau reducing learning rate to 0.00010812974069267512.\n",
      "\n",
      "Epoch 32: ReduceLROnPlateau reducing learning rate to 2.1625947556458414e-05.\n",
      "\n",
      "Epoch 37: ReduceLROnPlateau reducing learning rate to 4.3251893657725304e-06.\n",
      "\n",
      "Epoch 42: ReduceLROnPlateau reducing learning rate to 8.650378731545062e-07.\n",
      "Restoring model weights from the end of the best epoch: 34.\n",
      "Epoch 44: early stopping\n"
     ]
    },
    {
     "name": "stderr",
     "output_type": "stream",
     "text": [
      "[I 2024-01-17 13:27:43,229] Trial 6 finished with value: 0.0006102996994741261 and parameters: {'n_lstm_layers': 6, 'n_lstm_units_l0': 87, 'n_lstm_units_l1': 391, 'n_lstm_units_l2': 134, 'n_lstm_units_l3': 506, 'n_lstm_units_l4': 158, 'n_lstm_units_l5': 188, 'n__lstm_units_last6': 5, 'n_dense_layers': 3, 'n_units_d0': 264, 'n_units_d1': 259, 'n_units_d2': 275, 'learning_rate_init': 0.0005406486882754583, 'batch_size': 21}. Best is trial 6 with value: 0.0006102996994741261.\n"
     ]
    },
    {
     "name": "stdout",
     "output_type": "stream",
     "text": [
      "\n",
      "Epoch 9: ReduceLROnPlateau reducing learning rate to 1.6367592616006734e-05.\n",
      "Restoring model weights from the end of the best epoch: 4.\n",
      "\n",
      "Epoch 14: ReduceLROnPlateau reducing learning rate to 3.2735184504417703e-06.\n",
      "Epoch 14: early stopping\n"
     ]
    },
    {
     "name": "stderr",
     "output_type": "stream",
     "text": [
      "[I 2024-01-17 13:27:52,808] Trial 7 finished with value: 0.00485955411568284 and parameters: {'n_lstm_layers': 5, 'n_lstm_units_l0': 194, 'n_lstm_units_l1': 457, 'n_lstm_units_l2': 52, 'n_lstm_units_l3': 189, 'n_lstm_units_l4': 272, 'n__lstm_units_last5': 37, 'n_dense_layers': 4, 'n_units_d0': 7, 'n_units_d1': 191, 'n_units_d2': 77, 'n_units_d3': 136, 'learning_rate_init': 8.18379600008267e-05, 'batch_size': 36}. Best is trial 6 with value: 0.0006102996994741261.\n"
     ]
    },
    {
     "name": "stdout",
     "output_type": "stream",
     "text": [
      "\n",
      "Epoch 7: ReduceLROnPlateau reducing learning rate to 1.2021449219901116e-05.\n",
      "\n",
      "Epoch 12: ReduceLROnPlateau reducing learning rate to 2.404289807600435e-06.\n",
      "\n",
      "Epoch 17: ReduceLROnPlateau reducing learning rate to 4.80857943330193e-07.\n",
      "Restoring model weights from the end of the best epoch: 8.\n",
      "Epoch 18: early stopping\n"
     ]
    },
    {
     "name": "stderr",
     "output_type": "stream",
     "text": [
      "[I 2024-01-17 13:28:23,614] Trial 8 finished with value: 0.00550114456564188 and parameters: {'n_lstm_layers': 6, 'n_lstm_units_l0': 220, 'n_lstm_units_l1': 479, 'n_lstm_units_l2': 508, 'n_lstm_units_l3': 47, 'n_lstm_units_l4': 269, 'n_lstm_units_l5': 362, 'n__lstm_units_last6': 57, 'n_dense_layers': 1, 'n_units_d0': 480, 'learning_rate_init': 6.0107245253444946e-05, 'batch_size': 13}. Best is trial 6 with value: 0.0006102996994741261.\n"
     ]
    },
    {
     "name": "stdout",
     "output_type": "stream",
     "text": [
      "\n",
      "Epoch 18: ReduceLROnPlateau reducing learning rate to 2.9188555345172063e-06.\n",
      "\n",
      "Epoch 23: ReduceLROnPlateau reducing learning rate to 5.837710887135473e-07.\n",
      "Restoring model weights from the end of the best epoch: 14.\n",
      "Epoch 24: early stopping\n"
     ]
    },
    {
     "name": "stderr",
     "output_type": "stream",
     "text": [
      "[I 2024-01-17 13:28:32,659] Trial 9 finished with value: 0.004087240435183048 and parameters: {'n_lstm_layers': 3, 'n_lstm_units_l0': 483, 'n_lstm_units_l1': 208, 'n_lstm_units_l2': 81, 'n__lstm_units_last3': 41, 'n_dense_layers': 2, 'n_units_d0': 191, 'n_units_d1': 365, 'learning_rate_init': 1.4594277242572434e-05, 'batch_size': 48}. Best is trial 6 with value: 0.0006102996994741261.\n"
     ]
    }
   ],
   "source": [
    "storageUrl = \"sqlite:///univariateStockStudy.db\"\n",
    "study = optuna.create_study(study_name=\"univariateAnalysis\", storage=storageUrl, direction=\"minimize\", load_if_exists=True)\n",
    "study.optimize(objective, n_trials=10)"
   ]
  },
  {
   "cell_type": "code",
   "execution_count": 8,
   "metadata": {},
   "outputs": [
    {
     "name": "stdout",
     "output_type": "stream",
     "text": [
      "Best trial ID: 6\n",
      "Value of the best objective (lowest validation loss): 0.0006102996994741261\n",
      "Best hyperparameters:\n",
      "n_lstm_layers: 6\n",
      "n_lstm_units_l0: 87\n",
      "n_lstm_units_l1: 391\n",
      "n_lstm_units_l2: 134\n",
      "n_lstm_units_l3: 506\n",
      "n_lstm_units_l4: 158\n",
      "n_lstm_units_l5: 188\n",
      "n__lstm_units_last6: 5\n",
      "n_dense_layers: 3\n",
      "n_units_d0: 264\n",
      "n_units_d1: 259\n",
      "n_units_d2: 275\n",
      "learning_rate_init: 0.0005406486882754583\n",
      "batch_size: 21\n"
     ]
    }
   ],
   "source": [
    "\n",
    "best_trial = study.best_trial\n",
    "\n",
    "print(\"Best trial ID: {}\".format(best_trial.number))\n",
    "print(\"Value of the best objective (lowest validation loss): {}\".format(best_trial.value))\n",
    "\n",
    "\n",
    "print(\"Best hyperparameters:\")\n",
    "for key, value in best_trial.params.items():\n",
    "    print(\"{}: {}\".format(key, value))\n"
   ]
  },
  {
   "cell_type": "code",
   "execution_count": 25,
   "metadata": {},
   "outputs": [
    {
     "data": {
      "text/plain": [
       "Index(['number', 'value', 'datetime_start', 'datetime_complete', 'duration',\n",
       "       'params_batch_size', 'params_learning_rate_init',\n",
       "       'params_n__lstm_units_last1', 'params_n__lstm_units_last2',\n",
       "       'params_n__lstm_units_last3', 'params_n__lstm_units_last4',\n",
       "       'params_n__lstm_units_last5', 'params_n__lstm_units_last6',\n",
       "       'params_n_dense_layers', 'params_n_lstm_layers',\n",
       "       'params_n_lstm_units_l0', 'params_n_lstm_units_l1',\n",
       "       'params_n_lstm_units_l2', 'params_n_lstm_units_l3',\n",
       "       'params_n_lstm_units_l4', 'params_n_lstm_units_l5', 'params_n_units_d0',\n",
       "       'params_n_units_d1', 'params_n_units_d2', 'params_n_units_d3', 'state'],\n",
       "      dtype='object')"
      ]
     },
     "execution_count": 25,
     "metadata": {},
     "output_type": "execute_result"
    }
   ],
   "source": [
    "study.trials_dataframe().columns"
   ]
  },
  {
   "cell_type": "code",
   "execution_count": 28,
   "metadata": {},
   "outputs": [],
   "source": [
    "def buildModel(trial):\n",
    "    \n",
    "    nLstmLayers = trial.suggest_int('n_lstm_layers', 1, 6)\n",
    "    model = Sequential()\n",
    "    for i in range(nLstmLayers):\n",
    "        numHidden = trial.suggest_int(f'n_lstm_units_l{i}', 4, 512)\n",
    "        if i == 0:\n",
    "            model.add(LSTM(numHidden, return_sequences=True, input_shape=(xTrainReshaped.shape[1], xTrainReshaped.shape[2])))\n",
    "        else:\n",
    "            model.add(LSTM(numHidden,return_sequences=True))\n",
    "    numLastLSTM = trial.suggest_int(f'n__lstm_units_last{i+1}',4,64)\n",
    "    model.add(LSTM(numLastLSTM))\n",
    "\n",
    "    nDenseLayers = trial.suggest_int(f'n_dense_layers',1,4)\n",
    "    for i in range(nDenseLayers):\n",
    "        numHidden = trial.suggest_int(f'n_units_d{i}', 4, 512)\n",
    "        model.add(Dense(numHidden))\n",
    "    \n",
    "    model.add(Dense(1))\n",
    "    learningRate = trial.suggest_float(\n",
    "        \"learning_rate_init\", 1e-5, 1e-3, log=True\n",
    "    )\n",
    "    model.compile(optimizer=Adam(learning_rate=learningRate), loss='mean_squared_error')\n",
    "    earlyStopping = EarlyStopping(monitor='val_loss', patience=10, verbose=1, mode='min', restore_best_weights=True)\n",
    "    reduceLr = ReduceLROnPlateau(monitor='val_loss', factor=0.2, patience=5, verbose=1, mode='min')\n",
    "    batchSize = trial.suggest_categorical('batch_size', [4,16,64])\n",
    "    history = model.fit(xTrainReshaped, yTrain, batch_size=batchSize, verbose=1,epochs=100, validation_data=(xTestReshaped, yTest), callbacks=[earlyStopping, reduceLr])\n",
    "\n",
    "    return model,history"
   ]
  },
  {
   "cell_type": "code",
   "execution_count": 19,
   "metadata": {},
   "outputs": [
    {
     "name": "stdout",
     "output_type": "stream",
     "text": [
      "Epoch 1/100\n",
      "75/75 [==============================] - 6s 24ms/step - loss: 0.0733 - val_loss: 0.2426 - lr: 5.4065e-04\n",
      "Epoch 2/100\n",
      "75/75 [==============================] - 1s 10ms/step - loss: 0.0454 - val_loss: 0.0145 - lr: 5.4065e-04\n",
      "Epoch 3/100\n",
      "75/75 [==============================] - 1s 11ms/step - loss: 0.0018 - val_loss: 0.0059 - lr: 5.4065e-04\n",
      "Epoch 4/100\n",
      "75/75 [==============================] - 1s 11ms/step - loss: 0.0017 - val_loss: 0.0118 - lr: 5.4065e-04\n",
      "Epoch 5/100\n",
      "75/75 [==============================] - 1s 16ms/step - loss: 0.0012 - val_loss: 0.0038 - lr: 5.4065e-04\n",
      "Epoch 6/100\n",
      "75/75 [==============================] - 1s 12ms/step - loss: 9.1785e-04 - val_loss: 0.0028 - lr: 5.4065e-04\n",
      "Epoch 7/100\n",
      "75/75 [==============================] - 1s 13ms/step - loss: 6.5936e-04 - val_loss: 0.0017 - lr: 5.4065e-04\n",
      "Epoch 8/100\n",
      "75/75 [==============================] - 1s 13ms/step - loss: 0.0012 - val_loss: 0.0033 - lr: 5.4065e-04\n",
      "Epoch 9/100\n",
      "75/75 [==============================] - 1s 11ms/step - loss: 7.3090e-04 - val_loss: 0.0021 - lr: 5.4065e-04\n",
      "Epoch 10/100\n",
      "75/75 [==============================] - 1s 11ms/step - loss: 5.3839e-04 - val_loss: 0.0021 - lr: 5.4065e-04\n",
      "Epoch 11/100\n",
      "75/75 [==============================] - 1s 11ms/step - loss: 7.2836e-04 - val_loss: 0.0021 - lr: 5.4065e-04\n",
      "Epoch 12/100\n",
      "72/75 [===========================>..] - ETA: 0s - loss: 6.5293e-04\n",
      "Epoch 12: ReduceLROnPlateau reducing learning rate to 0.00010812974069267512.\n",
      "75/75 [==============================] - 1s 12ms/step - loss: 6.6884e-04 - val_loss: 0.0060 - lr: 5.4065e-04\n",
      "Epoch 13/100\n",
      "75/75 [==============================] - 1s 11ms/step - loss: 4.8681e-04 - val_loss: 0.0013 - lr: 1.0813e-04\n",
      "Epoch 14/100\n",
      "75/75 [==============================] - 1s 10ms/step - loss: 3.2852e-04 - val_loss: 0.0010 - lr: 1.0813e-04\n",
      "Epoch 15/100\n",
      "75/75 [==============================] - 1s 11ms/step - loss: 3.3772e-04 - val_loss: 0.0022 - lr: 1.0813e-04\n",
      "Epoch 16/100\n",
      "75/75 [==============================] - 1s 11ms/step - loss: 3.0910e-04 - val_loss: 0.0010 - lr: 1.0813e-04\n",
      "Epoch 17/100\n",
      "75/75 [==============================] - 1s 11ms/step - loss: 3.2307e-04 - val_loss: 0.0011 - lr: 1.0813e-04\n",
      "Epoch 18/100\n",
      "75/75 [==============================] - 1s 11ms/step - loss: 3.3640e-04 - val_loss: 9.8659e-04 - lr: 1.0813e-04\n",
      "Epoch 19/100\n",
      "75/75 [==============================] - ETA: 0s - loss: 3.0531e-04\n",
      "Epoch 19: ReduceLROnPlateau reducing learning rate to 2.1625947556458414e-05.\n",
      "75/75 [==============================] - 1s 10ms/step - loss: 3.0531e-04 - val_loss: 0.0023 - lr: 1.0813e-04\n",
      "Epoch 20/100\n",
      "75/75 [==============================] - 1s 11ms/step - loss: 2.8113e-04 - val_loss: 9.6161e-04 - lr: 2.1626e-05\n",
      "Epoch 21/100\n",
      "75/75 [==============================] - 1s 11ms/step - loss: 2.6991e-04 - val_loss: 0.0010 - lr: 2.1626e-05\n",
      "Epoch 22/100\n",
      "75/75 [==============================] - 1s 13ms/step - loss: 2.7347e-04 - val_loss: 0.0012 - lr: 2.1626e-05\n",
      "Epoch 23/100\n",
      "75/75 [==============================] - 1s 11ms/step - loss: 2.7016e-04 - val_loss: 0.0010 - lr: 2.1626e-05\n",
      "Epoch 24/100\n",
      "70/75 [===========================>..] - ETA: 0s - loss: 2.6974e-04\n",
      "Epoch 24: ReduceLROnPlateau reducing learning rate to 4.3251893657725304e-06.\n",
      "75/75 [==============================] - 1s 10ms/step - loss: 2.6537e-04 - val_loss: 9.3898e-04 - lr: 2.1626e-05\n",
      "Epoch 25/100\n",
      "75/75 [==============================] - 1s 10ms/step - loss: 2.6368e-04 - val_loss: 0.0011 - lr: 4.3252e-06\n",
      "Epoch 26/100\n",
      "75/75 [==============================] - 1s 10ms/step - loss: 2.6185e-04 - val_loss: 0.0010 - lr: 4.3252e-06\n",
      "Epoch 27/100\n",
      "75/75 [==============================] - 1s 12ms/step - loss: 2.6021e-04 - val_loss: 0.0012 - lr: 4.3252e-06\n",
      "Epoch 28/100\n",
      "75/75 [==============================] - 1s 10ms/step - loss: 2.6170e-04 - val_loss: 0.0011 - lr: 4.3252e-06\n",
      "Epoch 29/100\n",
      "72/75 [===========================>..] - ETA: 0s - loss: 2.5911e-04\n",
      "Epoch 29: ReduceLROnPlateau reducing learning rate to 8.650378731545062e-07.\n",
      "75/75 [==============================] - 1s 10ms/step - loss: 2.6266e-04 - val_loss: 0.0010 - lr: 4.3252e-06\n",
      "Epoch 30/100\n",
      "75/75 [==============================] - 1s 10ms/step - loss: 2.5946e-04 - val_loss: 9.9021e-04 - lr: 8.6504e-07\n",
      "Epoch 31/100\n",
      "75/75 [==============================] - 1s 10ms/step - loss: 2.5948e-04 - val_loss: 0.0010 - lr: 8.6504e-07\n",
      "Epoch 32/100\n",
      "75/75 [==============================] - 1s 12ms/step - loss: 2.5974e-04 - val_loss: 9.9534e-04 - lr: 8.6504e-07\n",
      "Epoch 33/100\n",
      "75/75 [==============================] - 1s 10ms/step - loss: 2.5958e-04 - val_loss: 0.0010 - lr: 8.6504e-07\n",
      "Epoch 34/100\n",
      "70/75 [===========================>..] - ETA: 0s - loss: 2.5481e-04Restoring model weights from the end of the best epoch: 24.\n",
      "\n",
      "Epoch 34: ReduceLROnPlateau reducing learning rate to 1.7300757235716448e-07.\n",
      "75/75 [==============================] - 1s 10ms/step - loss: 2.5967e-04 - val_loss: 0.0010 - lr: 8.6504e-07\n",
      "Epoch 34: early stopping\n"
     ]
    }
   ],
   "source": [
    "model,history = buildModel(best_trial)"
   ]
  },
  {
   "cell_type": "code",
   "execution_count": 26,
   "metadata": {},
   "outputs": [
    {
     "name": "stdout",
     "output_type": "stream",
     "text": [
      "13/13 [==============================] - 0s 5ms/step\n",
      "Mean Absolute Error (MAE): 4.53\n",
      "Mean Squared Error (MAE): 29.52\n",
      "Mean Absolute Percentage Error (MAPE): 2.76 %\n",
      "Median Absolute Percentage Error (MDAPE): 2.68 %\n"
     ]
    }
   ],
   "source": [
    "predictions = model.predict(xTestReshaped)\n",
    "\n",
    "\n",
    "dates = df['date'].values[-len(yTest):]  \n",
    "\n",
    "\n",
    "data = {\n",
    "    \"date\": dates,\n",
    "    \"predictedOpen\": predictions.flatten(),\n",
    "    \"open\": yTest\n",
    "}\n",
    "\n",
    "dfPredicted = pd.DataFrame(data)\n",
    "dfPredicted[\"date\"] = pd.to_datetime(dfPredicted[\"date\"])\n",
    "dfPredicted['predictedOpen'] = scaler.inverse_transform(dfPredicted['predictedOpen'].values.reshape(-1, 1))\n",
    "dfPredicted['open'] = scaler.inverse_transform(dfPredicted['open'].values.reshape(-1, 1))\n",
    "\n",
    "\n",
    "MAE = mean_absolute_error(dfPredicted[\"predictedOpen\"], dfPredicted[\"open\"])\n",
    "print(f'Mean Absolute Error (MAE): {np.round(MAE, 2)}')\n",
    "\n",
    "MSE = mean_squared_error( dfPredicted[\"open\"],dfPredicted[\"predictedOpen\"])\n",
    "print(f'Mean Squared Error (MAE): {np.round(MSE, 2)}')\n",
    "\n",
    "MAPE = np.mean(np.abs((dfPredicted[\"open\"] - dfPredicted[\"predictedOpen\"]) / dfPredicted[\"open\"])) * 100\n",
    "print(f'Mean Absolute Percentage Error (MAPE): {np.round(MAPE, 2)} %')\n",
    "\n",
    "\n",
    "MDAPE = np.median(np.abs((dfPredicted[\"open\"] - dfPredicted[\"predictedOpen\"]) / dfPredicted[\"open\"])) * 100\n",
    "print(f'Median Absolute Percentage Error (MDAPE): {np.round(MDAPE, 2)} %')\n"
   ]
  },
  {
   "cell_type": "code",
   "execution_count": 46,
   "metadata": {},
   "outputs": [
    {
     "data": {
      "application/vnd.plotly.v1+json": {
       "config": {
        "plotlyServerURL": "https://plot.ly"
       },
       "data": [
        {
         "line": {
          "color": "blue",
          "width": 1
         },
         "name": "Train Loss",
         "type": "scatter",
         "x": [
          0,
          1,
          2,
          3,
          4,
          5,
          6,
          7,
          8,
          9,
          10,
          11,
          12,
          13,
          14,
          15,
          16,
          17,
          18,
          19,
          20,
          21,
          22,
          23,
          24,
          25,
          26,
          27,
          28,
          29,
          30,
          31,
          32,
          33
         ],
         "y": [
          0.07331347465515137,
          0.045428842306137085,
          0.0017871786840260029,
          0.0017331233248114586,
          0.001176708610728383,
          0.0009178458712995052,
          0.0006593599682673812,
          0.0011796355247497559,
          0.0007308982312679291,
          0.0005383887910284102,
          0.0007283597369678319,
          0.0006688408320769668,
          0.0004868104588240385,
          0.00032852290314622223,
          0.0003377235261723399,
          0.00030910116038285196,
          0.00032307326910085976,
          0.000336399651132524,
          0.0003053075633943081,
          0.0002811310696415603,
          0.00026990543119609356,
          0.00027346963179297745,
          0.0002701608755160123,
          0.0002653675037436187,
          0.00026368279941380024,
          0.00026185414753854275,
          0.00026021248777396977,
          0.00026169908232986927,
          0.00026266337954439223,
          0.0002594601537566632,
          0.00025948070106096566,
          0.0002597397833596915,
          0.00025957569596357644,
          0.0002596677513793111
         ]
        },
        {
         "line": {
          "color": "red",
          "width": 1
         },
         "name": "Validation Loss",
         "type": "scatter",
         "x": [
          0,
          1,
          2,
          3,
          4,
          5,
          6,
          7,
          8,
          9,
          10,
          11,
          12,
          13,
          14,
          15,
          16,
          17,
          18,
          19,
          20,
          21,
          22,
          23,
          24,
          25,
          26,
          27,
          28,
          29,
          30,
          31,
          32,
          33
         ],
         "y": [
          0.24257107079029083,
          0.014481119811534882,
          0.005910612642765045,
          0.01176588423550129,
          0.003806737484410405,
          0.002835292834788561,
          0.001673661288805306,
          0.003258408745750785,
          0.0021423681173473597,
          0.0020941137336194515,
          0.0021207956597208977,
          0.0060373335145413876,
          0.0012918699067085981,
          0.0010173395276069641,
          0.002189707476645708,
          0.0010242229327559471,
          0.0010703691514208913,
          0.0009865921456366777,
          0.0022925138473510742,
          0.0009616145398467779,
          0.0010351991513743997,
          0.0011580402497202158,
          0.0010210812324658036,
          0.0009389815386384726,
          0.001108615193516016,
          0.001012793742120266,
          0.0011835296172648668,
          0.0011178457643836737,
          0.0010232169879600406,
          0.000990209518931806,
          0.0010182501282542944,
          0.0009953443659469485,
          0.0010163334663957357,
          0.0010110567091032863
         ]
        }
       ],
       "layout": {
        "height": 400,
        "showlegend": true,
        "template": {
         "data": {
          "bar": [
           {
            "error_x": {
             "color": "#2a3f5f"
            },
            "error_y": {
             "color": "#2a3f5f"
            },
            "marker": {
             "line": {
              "color": "#E5ECF6",
              "width": 0.5
             },
             "pattern": {
              "fillmode": "overlay",
              "size": 10,
              "solidity": 0.2
             }
            },
            "type": "bar"
           }
          ],
          "barpolar": [
           {
            "marker": {
             "line": {
              "color": "#E5ECF6",
              "width": 0.5
             },
             "pattern": {
              "fillmode": "overlay",
              "size": 10,
              "solidity": 0.2
             }
            },
            "type": "barpolar"
           }
          ],
          "carpet": [
           {
            "aaxis": {
             "endlinecolor": "#2a3f5f",
             "gridcolor": "white",
             "linecolor": "white",
             "minorgridcolor": "white",
             "startlinecolor": "#2a3f5f"
            },
            "baxis": {
             "endlinecolor": "#2a3f5f",
             "gridcolor": "white",
             "linecolor": "white",
             "minorgridcolor": "white",
             "startlinecolor": "#2a3f5f"
            },
            "type": "carpet"
           }
          ],
          "choropleth": [
           {
            "colorbar": {
             "outlinewidth": 0,
             "ticks": ""
            },
            "type": "choropleth"
           }
          ],
          "contour": [
           {
            "colorbar": {
             "outlinewidth": 0,
             "ticks": ""
            },
            "colorscale": [
             [
              0,
              "#0d0887"
             ],
             [
              0.1111111111111111,
              "#46039f"
             ],
             [
              0.2222222222222222,
              "#7201a8"
             ],
             [
              0.3333333333333333,
              "#9c179e"
             ],
             [
              0.4444444444444444,
              "#bd3786"
             ],
             [
              0.5555555555555556,
              "#d8576b"
             ],
             [
              0.6666666666666666,
              "#ed7953"
             ],
             [
              0.7777777777777778,
              "#fb9f3a"
             ],
             [
              0.8888888888888888,
              "#fdca26"
             ],
             [
              1,
              "#f0f921"
             ]
            ],
            "type": "contour"
           }
          ],
          "contourcarpet": [
           {
            "colorbar": {
             "outlinewidth": 0,
             "ticks": ""
            },
            "type": "contourcarpet"
           }
          ],
          "heatmap": [
           {
            "colorbar": {
             "outlinewidth": 0,
             "ticks": ""
            },
            "colorscale": [
             [
              0,
              "#0d0887"
             ],
             [
              0.1111111111111111,
              "#46039f"
             ],
             [
              0.2222222222222222,
              "#7201a8"
             ],
             [
              0.3333333333333333,
              "#9c179e"
             ],
             [
              0.4444444444444444,
              "#bd3786"
             ],
             [
              0.5555555555555556,
              "#d8576b"
             ],
             [
              0.6666666666666666,
              "#ed7953"
             ],
             [
              0.7777777777777778,
              "#fb9f3a"
             ],
             [
              0.8888888888888888,
              "#fdca26"
             ],
             [
              1,
              "#f0f921"
             ]
            ],
            "type": "heatmap"
           }
          ],
          "heatmapgl": [
           {
            "colorbar": {
             "outlinewidth": 0,
             "ticks": ""
            },
            "colorscale": [
             [
              0,
              "#0d0887"
             ],
             [
              0.1111111111111111,
              "#46039f"
             ],
             [
              0.2222222222222222,
              "#7201a8"
             ],
             [
              0.3333333333333333,
              "#9c179e"
             ],
             [
              0.4444444444444444,
              "#bd3786"
             ],
             [
              0.5555555555555556,
              "#d8576b"
             ],
             [
              0.6666666666666666,
              "#ed7953"
             ],
             [
              0.7777777777777778,
              "#fb9f3a"
             ],
             [
              0.8888888888888888,
              "#fdca26"
             ],
             [
              1,
              "#f0f921"
             ]
            ],
            "type": "heatmapgl"
           }
          ],
          "histogram": [
           {
            "marker": {
             "pattern": {
              "fillmode": "overlay",
              "size": 10,
              "solidity": 0.2
             }
            },
            "type": "histogram"
           }
          ],
          "histogram2d": [
           {
            "colorbar": {
             "outlinewidth": 0,
             "ticks": ""
            },
            "colorscale": [
             [
              0,
              "#0d0887"
             ],
             [
              0.1111111111111111,
              "#46039f"
             ],
             [
              0.2222222222222222,
              "#7201a8"
             ],
             [
              0.3333333333333333,
              "#9c179e"
             ],
             [
              0.4444444444444444,
              "#bd3786"
             ],
             [
              0.5555555555555556,
              "#d8576b"
             ],
             [
              0.6666666666666666,
              "#ed7953"
             ],
             [
              0.7777777777777778,
              "#fb9f3a"
             ],
             [
              0.8888888888888888,
              "#fdca26"
             ],
             [
              1,
              "#f0f921"
             ]
            ],
            "type": "histogram2d"
           }
          ],
          "histogram2dcontour": [
           {
            "colorbar": {
             "outlinewidth": 0,
             "ticks": ""
            },
            "colorscale": [
             [
              0,
              "#0d0887"
             ],
             [
              0.1111111111111111,
              "#46039f"
             ],
             [
              0.2222222222222222,
              "#7201a8"
             ],
             [
              0.3333333333333333,
              "#9c179e"
             ],
             [
              0.4444444444444444,
              "#bd3786"
             ],
             [
              0.5555555555555556,
              "#d8576b"
             ],
             [
              0.6666666666666666,
              "#ed7953"
             ],
             [
              0.7777777777777778,
              "#fb9f3a"
             ],
             [
              0.8888888888888888,
              "#fdca26"
             ],
             [
              1,
              "#f0f921"
             ]
            ],
            "type": "histogram2dcontour"
           }
          ],
          "mesh3d": [
           {
            "colorbar": {
             "outlinewidth": 0,
             "ticks": ""
            },
            "type": "mesh3d"
           }
          ],
          "parcoords": [
           {
            "line": {
             "colorbar": {
              "outlinewidth": 0,
              "ticks": ""
             }
            },
            "type": "parcoords"
           }
          ],
          "pie": [
           {
            "automargin": true,
            "type": "pie"
           }
          ],
          "scatter": [
           {
            "fillpattern": {
             "fillmode": "overlay",
             "size": 10,
             "solidity": 0.2
            },
            "type": "scatter"
           }
          ],
          "scatter3d": [
           {
            "line": {
             "colorbar": {
              "outlinewidth": 0,
              "ticks": ""
             }
            },
            "marker": {
             "colorbar": {
              "outlinewidth": 0,
              "ticks": ""
             }
            },
            "type": "scatter3d"
           }
          ],
          "scattercarpet": [
           {
            "marker": {
             "colorbar": {
              "outlinewidth": 0,
              "ticks": ""
             }
            },
            "type": "scattercarpet"
           }
          ],
          "scattergeo": [
           {
            "marker": {
             "colorbar": {
              "outlinewidth": 0,
              "ticks": ""
             }
            },
            "type": "scattergeo"
           }
          ],
          "scattergl": [
           {
            "marker": {
             "colorbar": {
              "outlinewidth": 0,
              "ticks": ""
             }
            },
            "type": "scattergl"
           }
          ],
          "scattermapbox": [
           {
            "marker": {
             "colorbar": {
              "outlinewidth": 0,
              "ticks": ""
             }
            },
            "type": "scattermapbox"
           }
          ],
          "scatterpolar": [
           {
            "marker": {
             "colorbar": {
              "outlinewidth": 0,
              "ticks": ""
             }
            },
            "type": "scatterpolar"
           }
          ],
          "scatterpolargl": [
           {
            "marker": {
             "colorbar": {
              "outlinewidth": 0,
              "ticks": ""
             }
            },
            "type": "scatterpolargl"
           }
          ],
          "scatterternary": [
           {
            "marker": {
             "colorbar": {
              "outlinewidth": 0,
              "ticks": ""
             }
            },
            "type": "scatterternary"
           }
          ],
          "surface": [
           {
            "colorbar": {
             "outlinewidth": 0,
             "ticks": ""
            },
            "colorscale": [
             [
              0,
              "#0d0887"
             ],
             [
              0.1111111111111111,
              "#46039f"
             ],
             [
              0.2222222222222222,
              "#7201a8"
             ],
             [
              0.3333333333333333,
              "#9c179e"
             ],
             [
              0.4444444444444444,
              "#bd3786"
             ],
             [
              0.5555555555555556,
              "#d8576b"
             ],
             [
              0.6666666666666666,
              "#ed7953"
             ],
             [
              0.7777777777777778,
              "#fb9f3a"
             ],
             [
              0.8888888888888888,
              "#fdca26"
             ],
             [
              1,
              "#f0f921"
             ]
            ],
            "type": "surface"
           }
          ],
          "table": [
           {
            "cells": {
             "fill": {
              "color": "#EBF0F8"
             },
             "line": {
              "color": "white"
             }
            },
            "header": {
             "fill": {
              "color": "#C8D4E3"
             },
             "line": {
              "color": "white"
             }
            },
            "type": "table"
           }
          ]
         },
         "layout": {
          "annotationdefaults": {
           "arrowcolor": "#2a3f5f",
           "arrowhead": 0,
           "arrowwidth": 1
          },
          "autotypenumbers": "strict",
          "coloraxis": {
           "colorbar": {
            "outlinewidth": 0,
            "ticks": ""
           }
          },
          "colorscale": {
           "diverging": [
            [
             0,
             "#8e0152"
            ],
            [
             0.1,
             "#c51b7d"
            ],
            [
             0.2,
             "#de77ae"
            ],
            [
             0.3,
             "#f1b6da"
            ],
            [
             0.4,
             "#fde0ef"
            ],
            [
             0.5,
             "#f7f7f7"
            ],
            [
             0.6,
             "#e6f5d0"
            ],
            [
             0.7,
             "#b8e186"
            ],
            [
             0.8,
             "#7fbc41"
            ],
            [
             0.9,
             "#4d9221"
            ],
            [
             1,
             "#276419"
            ]
           ],
           "sequential": [
            [
             0,
             "#0d0887"
            ],
            [
             0.1111111111111111,
             "#46039f"
            ],
            [
             0.2222222222222222,
             "#7201a8"
            ],
            [
             0.3333333333333333,
             "#9c179e"
            ],
            [
             0.4444444444444444,
             "#bd3786"
            ],
            [
             0.5555555555555556,
             "#d8576b"
            ],
            [
             0.6666666666666666,
             "#ed7953"
            ],
            [
             0.7777777777777778,
             "#fb9f3a"
            ],
            [
             0.8888888888888888,
             "#fdca26"
            ],
            [
             1,
             "#f0f921"
            ]
           ],
           "sequentialminus": [
            [
             0,
             "#0d0887"
            ],
            [
             0.1111111111111111,
             "#46039f"
            ],
            [
             0.2222222222222222,
             "#7201a8"
            ],
            [
             0.3333333333333333,
             "#9c179e"
            ],
            [
             0.4444444444444444,
             "#bd3786"
            ],
            [
             0.5555555555555556,
             "#d8576b"
            ],
            [
             0.6666666666666666,
             "#ed7953"
            ],
            [
             0.7777777777777778,
             "#fb9f3a"
            ],
            [
             0.8888888888888888,
             "#fdca26"
            ],
            [
             1,
             "#f0f921"
            ]
           ]
          },
          "colorway": [
           "#636efa",
           "#EF553B",
           "#00cc96",
           "#ab63fa",
           "#FFA15A",
           "#19d3f3",
           "#FF6692",
           "#B6E880",
           "#FF97FF",
           "#FECB52"
          ],
          "font": {
           "color": "#2a3f5f"
          },
          "geo": {
           "bgcolor": "white",
           "lakecolor": "white",
           "landcolor": "#E5ECF6",
           "showlakes": true,
           "showland": true,
           "subunitcolor": "white"
          },
          "hoverlabel": {
           "align": "left"
          },
          "hovermode": "closest",
          "mapbox": {
           "style": "light"
          },
          "paper_bgcolor": "white",
          "plot_bgcolor": "#E5ECF6",
          "polar": {
           "angularaxis": {
            "gridcolor": "white",
            "linecolor": "white",
            "ticks": ""
           },
           "bgcolor": "#E5ECF6",
           "radialaxis": {
            "gridcolor": "white",
            "linecolor": "white",
            "ticks": ""
           }
          },
          "scene": {
           "xaxis": {
            "backgroundcolor": "#E5ECF6",
            "gridcolor": "white",
            "gridwidth": 2,
            "linecolor": "white",
            "showbackground": true,
            "ticks": "",
            "zerolinecolor": "white"
           },
           "yaxis": {
            "backgroundcolor": "#E5ECF6",
            "gridcolor": "white",
            "gridwidth": 2,
            "linecolor": "white",
            "showbackground": true,
            "ticks": "",
            "zerolinecolor": "white"
           },
           "zaxis": {
            "backgroundcolor": "#E5ECF6",
            "gridcolor": "white",
            "gridwidth": 2,
            "linecolor": "white",
            "showbackground": true,
            "ticks": "",
            "zerolinecolor": "white"
           }
          },
          "shapedefaults": {
           "line": {
            "color": "#2a3f5f"
           }
          },
          "ternary": {
           "aaxis": {
            "gridcolor": "white",
            "linecolor": "white",
            "ticks": ""
           },
           "baxis": {
            "gridcolor": "white",
            "linecolor": "white",
            "ticks": ""
           },
           "bgcolor": "#E5ECF6",
           "caxis": {
            "gridcolor": "white",
            "linecolor": "white",
            "ticks": ""
           }
          },
          "title": {
           "x": 0.05
          },
          "xaxis": {
           "automargin": true,
           "gridcolor": "white",
           "linecolor": "white",
           "ticks": "",
           "title": {
            "standoff": 15
           },
           "zerolinecolor": "white",
           "zerolinewidth": 2
          },
          "yaxis": {
           "automargin": true,
           "gridcolor": "white",
           "linecolor": "white",
           "ticks": "",
           "title": {
            "standoff": 15
           },
           "zerolinecolor": "white",
           "zerolinewidth": 2
          }
         }
        },
        "title": {
         "text": "Learning Curve"
        },
        "width": 1200
       }
      }
     },
     "metadata": {},
     "output_type": "display_data"
    }
   ],
   "source": [
    "historyDf = pd.DataFrame(history.history).reset_index()\n",
    "historyDf.rename(columns={'index':'epoch'},inplace=True)\n",
    "fig = go.Figure()\n",
    "fig.add_trace(go.Scatter(x=historyDf[\"epoch\"], y=historyDf[\"loss\"],name='Train Loss',line=dict(color='blue', width=1)))\n",
    "fig.add_trace(go.Scatter(x=historyDf[\"epoch\"], y=historyDf[\"val_loss\"],name='Validation Loss',line=dict(color='red', width=1)))\n",
    "fig.update_layout(height=400, width=1200, title_text=f\"Learning Curve\", showlegend=True)"
   ]
  },
  {
   "cell_type": "code",
   "execution_count": 47,
   "metadata": {},
   "outputs": [
    {
     "data": {
      "application/vnd.plotly.v1+json": {
       "config": {
        "plotlyServerURL": "https://plot.ly"
       },
       "data": [
        {
         "mode": "lines",
         "name": "Actual",
         "type": "scatter",
         "x": [
          "2022-06-08T00:00:00",
          "2022-06-09T00:00:00",
          "2022-06-10T00:00:00",
          "2022-06-13T00:00:00",
          "2022-06-14T00:00:00",
          "2022-06-15T00:00:00",
          "2022-06-16T00:00:00",
          "2022-06-17T00:00:00",
          "2022-06-21T00:00:00",
          "2022-06-22T00:00:00",
          "2022-06-23T00:00:00",
          "2022-06-24T00:00:00",
          "2022-06-27T00:00:00",
          "2022-06-28T00:00:00",
          "2022-06-29T00:00:00",
          "2022-06-30T00:00:00",
          "2022-07-01T00:00:00",
          "2022-07-05T00:00:00",
          "2022-07-06T00:00:00",
          "2022-07-07T00:00:00",
          "2022-07-08T00:00:00",
          "2022-07-11T00:00:00",
          "2022-07-12T00:00:00",
          "2022-07-13T00:00:00",
          "2022-07-14T00:00:00",
          "2022-07-15T00:00:00",
          "2022-07-18T00:00:00",
          "2022-07-19T00:00:00",
          "2022-07-20T00:00:00",
          "2022-07-21T00:00:00",
          "2022-07-22T00:00:00",
          "2022-07-25T00:00:00",
          "2022-07-26T00:00:00",
          "2022-07-27T00:00:00",
          "2022-07-28T00:00:00",
          "2022-07-29T00:00:00",
          "2022-08-01T00:00:00",
          "2022-08-02T00:00:00",
          "2022-08-03T00:00:00",
          "2022-08-04T00:00:00",
          "2022-08-05T00:00:00",
          "2022-08-08T00:00:00",
          "2022-08-09T00:00:00",
          "2022-08-10T00:00:00",
          "2022-08-11T00:00:00",
          "2022-08-12T00:00:00",
          "2022-08-15T00:00:00",
          "2022-08-16T00:00:00",
          "2022-08-17T00:00:00",
          "2022-08-18T00:00:00",
          "2022-08-19T00:00:00",
          "2022-08-22T00:00:00",
          "2022-08-23T00:00:00",
          "2022-08-24T00:00:00",
          "2022-08-25T00:00:00",
          "2022-08-26T00:00:00",
          "2022-08-29T00:00:00",
          "2022-08-30T00:00:00",
          "2022-08-31T00:00:00",
          "2022-09-01T00:00:00",
          "2022-09-02T00:00:00",
          "2022-09-06T00:00:00",
          "2022-09-07T00:00:00",
          "2022-09-08T00:00:00",
          "2022-09-09T00:00:00",
          "2022-09-12T00:00:00",
          "2022-09-13T00:00:00",
          "2022-09-14T00:00:00",
          "2022-09-15T00:00:00",
          "2022-09-16T00:00:00",
          "2022-09-19T00:00:00",
          "2022-09-20T00:00:00",
          "2022-09-21T00:00:00",
          "2022-09-22T00:00:00",
          "2022-09-23T00:00:00",
          "2022-09-26T00:00:00",
          "2022-09-27T00:00:00",
          "2022-09-28T00:00:00",
          "2022-09-29T00:00:00",
          "2022-09-30T00:00:00",
          "2022-10-03T00:00:00",
          "2022-10-04T00:00:00",
          "2022-10-05T00:00:00",
          "2022-10-06T00:00:00",
          "2022-10-07T00:00:00",
          "2022-10-10T00:00:00",
          "2022-10-11T00:00:00",
          "2022-10-12T00:00:00",
          "2022-10-13T00:00:00",
          "2022-10-14T00:00:00",
          "2022-10-17T00:00:00",
          "2022-10-18T00:00:00",
          "2022-10-19T00:00:00",
          "2022-10-20T00:00:00",
          "2022-10-21T00:00:00",
          "2022-10-24T00:00:00",
          "2022-10-25T00:00:00",
          "2022-10-26T00:00:00",
          "2022-10-27T00:00:00",
          "2022-10-28T00:00:00",
          "2022-10-31T00:00:00",
          "2022-11-01T00:00:00",
          "2022-11-02T00:00:00",
          "2022-11-03T00:00:00",
          "2022-11-04T00:00:00",
          "2022-11-07T00:00:00",
          "2022-11-08T00:00:00",
          "2022-11-09T00:00:00",
          "2022-11-10T00:00:00",
          "2022-11-11T00:00:00",
          "2022-11-14T00:00:00",
          "2022-11-15T00:00:00",
          "2022-11-16T00:00:00",
          "2022-11-17T00:00:00",
          "2022-11-18T00:00:00",
          "2022-11-21T00:00:00",
          "2022-11-22T00:00:00",
          "2022-11-23T00:00:00",
          "2022-11-25T00:00:00",
          "2022-11-28T00:00:00",
          "2022-11-29T00:00:00",
          "2022-11-30T00:00:00",
          "2022-12-01T00:00:00",
          "2022-12-02T00:00:00",
          "2022-12-05T00:00:00",
          "2022-12-06T00:00:00",
          "2022-12-07T00:00:00",
          "2022-12-08T00:00:00",
          "2022-12-09T00:00:00",
          "2022-12-12T00:00:00",
          "2022-12-13T00:00:00",
          "2022-12-14T00:00:00",
          "2022-12-15T00:00:00",
          "2022-12-16T00:00:00",
          "2022-12-19T00:00:00",
          "2022-12-20T00:00:00",
          "2022-12-21T00:00:00",
          "2022-12-22T00:00:00",
          "2022-12-23T00:00:00",
          "2022-12-27T00:00:00",
          "2022-12-28T00:00:00",
          "2022-12-29T00:00:00",
          "2022-12-30T00:00:00",
          "2023-01-03T00:00:00",
          "2023-01-04T00:00:00",
          "2023-01-05T00:00:00",
          "2023-01-06T00:00:00",
          "2023-01-09T00:00:00",
          "2023-01-10T00:00:00",
          "2023-01-11T00:00:00",
          "2023-01-12T00:00:00",
          "2023-01-13T00:00:00",
          "2023-01-17T00:00:00",
          "2023-01-18T00:00:00",
          "2023-01-19T00:00:00",
          "2023-01-20T00:00:00",
          "2023-01-23T00:00:00",
          "2023-01-24T00:00:00",
          "2023-01-25T00:00:00",
          "2023-01-26T00:00:00",
          "2023-01-27T00:00:00",
          "2023-01-30T00:00:00",
          "2023-01-31T00:00:00",
          "2023-02-01T00:00:00",
          "2023-02-02T00:00:00",
          "2023-02-03T00:00:00",
          "2023-02-06T00:00:00",
          "2023-02-07T00:00:00",
          "2023-02-08T00:00:00",
          "2023-02-09T00:00:00",
          "2023-02-10T00:00:00",
          "2023-02-13T00:00:00",
          "2023-02-14T00:00:00",
          "2023-02-15T00:00:00",
          "2023-02-16T00:00:00",
          "2023-02-17T00:00:00",
          "2023-02-21T00:00:00",
          "2023-02-22T00:00:00",
          "2023-02-23T00:00:00",
          "2023-02-24T00:00:00",
          "2023-02-27T00:00:00",
          "2023-02-28T00:00:00",
          "2023-03-01T00:00:00",
          "2023-03-02T00:00:00",
          "2023-03-03T00:00:00",
          "2023-03-06T00:00:00",
          "2023-03-07T00:00:00",
          "2023-03-08T00:00:00",
          "2023-03-09T00:00:00",
          "2023-03-10T00:00:00",
          "2023-03-13T00:00:00",
          "2023-03-14T00:00:00",
          "2023-03-15T00:00:00",
          "2023-03-16T00:00:00",
          "2023-03-17T00:00:00",
          "2023-03-20T00:00:00",
          "2023-03-21T00:00:00",
          "2023-03-22T00:00:00",
          "2023-03-23T00:00:00",
          "2023-03-24T00:00:00",
          "2023-03-27T00:00:00",
          "2023-03-28T00:00:00",
          "2023-03-29T00:00:00",
          "2023-03-30T00:00:00",
          "2023-03-31T00:00:00",
          "2023-04-03T00:00:00",
          "2023-04-04T00:00:00",
          "2023-04-05T00:00:00",
          "2023-04-06T00:00:00",
          "2023-04-10T00:00:00",
          "2023-04-11T00:00:00",
          "2023-04-12T00:00:00",
          "2023-04-13T00:00:00",
          "2023-04-14T00:00:00",
          "2023-04-17T00:00:00",
          "2023-04-18T00:00:00",
          "2023-04-19T00:00:00",
          "2023-04-20T00:00:00",
          "2023-04-21T00:00:00",
          "2023-04-24T00:00:00",
          "2023-04-25T00:00:00",
          "2023-04-26T00:00:00",
          "2023-04-27T00:00:00",
          "2023-04-28T00:00:00",
          "2023-05-01T00:00:00",
          "2023-05-02T00:00:00",
          "2023-05-03T00:00:00",
          "2023-05-04T00:00:00",
          "2023-05-05T00:00:00",
          "2023-05-08T00:00:00",
          "2023-05-09T00:00:00",
          "2023-05-10T00:00:00",
          "2023-05-11T00:00:00",
          "2023-05-12T00:00:00",
          "2023-05-15T00:00:00",
          "2023-05-16T00:00:00",
          "2023-05-17T00:00:00",
          "2023-05-18T00:00:00",
          "2023-05-19T00:00:00",
          "2023-05-22T00:00:00",
          "2023-05-23T00:00:00",
          "2023-05-24T00:00:00",
          "2023-05-25T00:00:00",
          "2023-05-26T00:00:00",
          "2023-05-30T00:00:00",
          "2023-05-31T00:00:00",
          "2023-06-01T00:00:00",
          "2023-06-02T00:00:00",
          "2023-06-05T00:00:00",
          "2023-06-06T00:00:00",
          "2023-06-07T00:00:00",
          "2023-06-08T00:00:00",
          "2023-06-09T00:00:00",
          "2023-06-12T00:00:00",
          "2023-06-13T00:00:00",
          "2023-06-14T00:00:00",
          "2023-06-15T00:00:00",
          "2023-06-16T00:00:00",
          "2023-06-20T00:00:00",
          "2023-06-21T00:00:00",
          "2023-06-22T00:00:00",
          "2023-06-23T00:00:00",
          "2023-06-26T00:00:00",
          "2023-06-27T00:00:00",
          "2023-06-28T00:00:00",
          "2023-06-29T00:00:00",
          "2023-06-30T00:00:00",
          "2023-07-03T00:00:00",
          "2023-07-05T00:00:00",
          "2023-07-06T00:00:00",
          "2023-07-07T00:00:00",
          "2023-07-10T00:00:00",
          "2023-07-11T00:00:00",
          "2023-07-12T00:00:00",
          "2023-07-13T00:00:00",
          "2023-07-14T00:00:00",
          "2023-07-17T00:00:00",
          "2023-07-18T00:00:00",
          "2023-07-19T00:00:00",
          "2023-07-20T00:00:00",
          "2023-07-21T00:00:00",
          "2023-07-24T00:00:00",
          "2023-07-25T00:00:00",
          "2023-07-26T00:00:00",
          "2023-07-27T00:00:00",
          "2023-07-28T00:00:00",
          "2023-07-31T00:00:00",
          "2023-08-01T00:00:00",
          "2023-08-02T00:00:00",
          "2023-08-03T00:00:00",
          "2023-08-04T00:00:00",
          "2023-08-07T00:00:00",
          "2023-08-08T00:00:00",
          "2023-08-09T00:00:00",
          "2023-08-10T00:00:00",
          "2023-08-11T00:00:00",
          "2023-08-14T00:00:00",
          "2023-08-15T00:00:00",
          "2023-08-16T00:00:00",
          "2023-08-17T00:00:00",
          "2023-08-18T00:00:00",
          "2023-08-21T00:00:00",
          "2023-08-22T00:00:00",
          "2023-08-23T00:00:00",
          "2023-08-24T00:00:00",
          "2023-08-25T00:00:00",
          "2023-08-28T00:00:00",
          "2023-08-29T00:00:00",
          "2023-08-30T00:00:00",
          "2023-08-31T00:00:00",
          "2023-09-01T00:00:00",
          "2023-09-05T00:00:00",
          "2023-09-06T00:00:00",
          "2023-09-07T00:00:00",
          "2023-09-08T00:00:00",
          "2023-09-11T00:00:00",
          "2023-09-12T00:00:00",
          "2023-09-13T00:00:00",
          "2023-09-14T00:00:00",
          "2023-09-15T00:00:00",
          "2023-09-18T00:00:00",
          "2023-09-19T00:00:00",
          "2023-09-20T00:00:00",
          "2023-09-21T00:00:00",
          "2023-09-22T00:00:00",
          "2023-09-25T00:00:00",
          "2023-09-26T00:00:00",
          "2023-09-27T00:00:00",
          "2023-09-28T00:00:00",
          "2023-09-29T00:00:00",
          "2023-10-02T00:00:00",
          "2023-10-03T00:00:00",
          "2023-10-04T00:00:00",
          "2023-10-05T00:00:00",
          "2023-10-06T00:00:00",
          "2023-10-09T00:00:00",
          "2023-10-10T00:00:00",
          "2023-10-11T00:00:00",
          "2023-10-12T00:00:00",
          "2023-10-13T00:00:00",
          "2023-10-16T00:00:00",
          "2023-10-17T00:00:00",
          "2023-10-18T00:00:00",
          "2023-10-19T00:00:00",
          "2023-10-20T00:00:00",
          "2023-10-23T00:00:00",
          "2023-10-24T00:00:00",
          "2023-10-25T00:00:00",
          "2023-10-26T00:00:00",
          "2023-10-27T00:00:00",
          "2023-10-30T00:00:00",
          "2023-10-31T00:00:00",
          "2023-11-01T00:00:00",
          "2023-11-02T00:00:00",
          "2023-11-03T00:00:00",
          "2023-11-06T00:00:00",
          "2023-11-07T00:00:00",
          "2023-11-08T00:00:00",
          "2023-11-09T00:00:00",
          "2023-11-10T00:00:00",
          "2023-11-13T00:00:00",
          "2023-11-14T00:00:00",
          "2023-11-15T00:00:00",
          "2023-11-16T00:00:00",
          "2023-11-17T00:00:00",
          "2023-11-20T00:00:00",
          "2023-11-21T00:00:00",
          "2023-11-22T00:00:00",
          "2023-11-24T00:00:00",
          "2023-11-27T00:00:00",
          "2023-11-28T00:00:00",
          "2023-11-29T00:00:00",
          "2023-11-30T00:00:00",
          "2023-12-01T00:00:00",
          "2023-12-04T00:00:00",
          "2023-12-05T00:00:00",
          "2023-12-06T00:00:00",
          "2023-12-07T00:00:00",
          "2023-12-08T00:00:00",
          "2023-12-11T00:00:00",
          "2023-12-12T00:00:00",
          "2023-12-13T00:00:00",
          "2023-12-14T00:00:00",
          "2023-12-15T00:00:00",
          "2023-12-18T00:00:00",
          "2023-12-19T00:00:00",
          "2023-12-20T00:00:00",
          "2023-12-21T00:00:00",
          "2023-12-22T00:00:00",
          "2023-12-26T00:00:00",
          "2023-12-27T00:00:00",
          "2023-12-28T00:00:00",
          "2023-12-29T00:00:00"
         ],
         "y": [
          147.30481377882376,
          145.8176984463502,
          139.07603812769375,
          131.72964739686444,
          131.9874249951743,
          133.13745429148258,
          130.94643916138517,
          128.95369044848368,
          132.27493312676054,
          133.63317841825727,
          135.6457454244307,
          138.6993092960895,
          141.47528146370163,
          140.91015640517526,
          136.28023635237173,
          136.07205040087803,
          134.87242917072984,
          136.58762619724,
          140.13687225540173,
          142.06021323087157,
          144.01330836068453,
          144.4198003154347,
          144.50899124937533,
          141.76280433195686,
          142.84343285685708,
          148.49451232987872,
          149.4462855947579,
          146.65047285224108,
          149.82299707471878,
          153.17401265767333,
          154.05634746224217,
          152.68819867877266,
          150.95321316994483,
          151.27047692825258,
          155.63272271480602,
          159.85616032306172,
          159.62813156545937,
          158.7259425604157,
          159.45958610051326,
          164.58522812361144,
          162.03400486765756,
          165.1712138240499,
          162.8381803407981,
          166.4717964978652,
          168.83466553112586,
          168.5963994395109,
          170.28412779213951,
          171.5350502506805,
          171.52513932195097,
          172.49806034191954,
          171.7832636955918,
          168.46731426092674,
          165.87612653973713,
          166.11441283627198,
          167.5638773115105,
          169.34099021371878,
          159.9888399437532,
          160.961799332458,
          159.15490524313924,
          155.51135739433735,
          158.5989455021974,
          155.34257364746225,
          153.70447265666442,
          153.52575691445264,
          154.3497802721592,
          158.4400982386165,
          158.7478546153366,
          153.67467577268457,
          153.53569597296436,
          150.12048596867,
          148.2341515860475,
          152.29470395440975,
          156.2063080592874,
          151.2820434173796,
          150.10063352281728,
          148.58165210914038,
          151.63945352699557,
          146.5762153120267,
          145.04729586269698,
          140.26204870597417,
          137.21414468742694,
          143.98501986213978,
          143.03192520542137,
          144.7593620905544,
          141.51294075229976,
          139.40823364257812,
          138.8919611506435,
          138.12753224319087,
          134.01734494898167,
          143.2701839201979,
          140.0535546210493,
          144.44170157280954,
          140.66907795503278,
          141.98949760284214,
          141.84057185832185,
          146.12944328745533,
          149.00853699238203,
          149.87229534480915,
          147.00311083214885,
          147.1321780334806,
          152.05641168046955,
          153.96260251928965,
          147.8767693223108,
          141.03639777878593,
          141.3001941854954,
          136.3478751955719,
          139.62953955470834,
          137.7301585954718,
          140.45493868841405,
          145.00948156877828,
          148.14194707176574,
          151.3738994594317,
          148.3010733196328,
          145.61606988959937,
          151.46340086422595,
          149.32534478513506,
          147.3066219399074,
          148.61929518113786,
          147.48562844546117,
          144.33326526479476,
          143.4879677913258,
          140.61403139798944,
          147.38617591998934,
          145.1486955541598,
          146.9486500814395,
          146.25251117267734,
          141.39965294700718,
          141.56870479823243,
          141.54880420420042,
          141.9068003319178,
          148.6690212179717,
          144.54209059311248,
          140.3256481385452,
          135.9302195981545,
          134.35900705191577,
          130.65969066726285,
          132.24085602707584,
          133.60322141261773,
          130.19228247630645,
          130.6497379025502,
          128.94923667487816,
          127.27857407322782,
          127.6962387511335,
          129.55584108752768,
          126.18469137284231,
          126.42336093468984,
          125.30959352382371,
          129.7447880223043,
          129.53595292486554,
          130.52046168208338,
          133.13583048297895,
          131.2961043638628,
          134.08055647571666,
          136.05950183967158,
          133.33472431498433,
          134.5280679288627,
          137.35225233023863,
          139.530085826483,
          140.10686269651404,
          142.3742031889364,
          142.36424352126406,
          144.15425124057808,
          141.90681752473483,
          143.16973653167372,
          148.0723331627567,
          147.20716740468873,
          151.72195437162094,
          149.80268459271556,
          153.0246891332235,
          152.92521579525825,
          148.8561766224306,
          150.3401464530594,
          151.5054161644625,
          152.49142141204047,
          152.88980037680486,
          151.7344963627943,
          149.59317925778595,
          148.26854847852871,
          149.48363206470827,
          146.51565692143686,
          147.11324462513485,
          146.4559069516034,
          146.236794214235,
          143.79669345182052,
          147.44188963835785,
          153.1686644466306,
          153.07904033317436,
          152.19264046327316,
          152.9396000232387,
          149.60313772552362,
          147.2128190287622,
          150.66882089048352,
          150.57917170176478,
          151.54525781261566,
          155.44941777627795,
          154.44352567681725,
          156.6844169965663,
          158.6564299595171,
          158.1883159582908,
          158.21818596508513,
          159.29383054631492,
          157.33179125424502,
          158.7261454936404,
          160.87740721575273,
          161.78374211751722,
          163.60635455152854,
          165.92692828271132,
          164.07444032131605,
          161.7737646425446,
          160.7678453225077,
          161.69410104147346,
          160.56865625983505,
          160.9769982954281,
          163.9250360328323,
          164.42302044195827,
          165.42895451392155,
          165.13016548549535,
          165.41896475504282,
          164.38319484384462,
          164.3333949850056,
          164.52261385717676,
          162.40121977737576,
          164.52262209040046,
          167.80928159661238,
          168.59608580404557,
          169.40281066234166,
          168.81520412378237,
          164.22382042903283,
          170.2892115835582,
          171.78315840014966,
          172.3508619892183,
          172.32098351499195,
          173.1476520055731,
          173.15774218957503,
          172.69897170529626,
          171.53208861219923,
          171.25283806768712,
          172.53939360762658,
          175.92037022008634,
          173.5167753267537,
          172.66905294851753,
          170.6344736621792,
          171.9509613713399,
          172.85853842158505,
          176.48885079669677,
          176.85784973431777,
          177.22686816825382,
          180.54800476783768,
          182.1437500536452,
          179.49082009611885,
          177.96490198364674,
          177.4263289743331,
          181.01675072800933,
          180.78736449463221,
          182.3133085147548,
          182.88177800213666,
          183.4702103217935,
          186.23282120508455,
          183.91901689338587,
          184.40769931891307,
          183.25080605253035,
          185.05597188032547,
          186.33257755204687,
          185.3950599323009,
          187.429631446172,
          188.57656845289964,
          191.1198012695657,
          193.26406367433887,
          191.0599536385693,
          189.3345450785546,
          190.900369559223,
          188.756097175468,
          188.6563805645655,
          189.1749680502115,
          189.99278226578528,
          189.7234995694156,
          191.38906376218185,
          192.83520972432768,
          192.5858761596578,
          194.57057195548003,
          193.583223081012,
          192.89504754304852,
          192.81527099305384,
          193.1543552508233,
          195.49809916471943,
          194.15169382943296,
          195.53799514590202,
          195.7175151124968,
          194.5206870567558,
          191.0599548787207,
          185.02606291154598,
          181.64507544757433,
          179.21156607716688,
          180.38841794823884,
          179.00212892052588,
          177.08670844562434,
          177.73584711043483,
          178.64464865954284,
          176.8969530245068,
          176.90694055571782,
          172.07330078860403,
          174.8396666437127,
          176.82703641390555,
          178.28512852757362,
          180.43228271341783,
          177.14662260147787,
          179.85305211015677,
          179.46356384927003,
          184.69668071395495,
          187.59285868271365,
          189.24069844642932,
          188.03227905614676,
          188.15210888725912,
          174.94951193902594,
          178.11534637728536,
          179.8330807031807,
          179.25384418348855,
          176.27775075918763,
          173.77107284808233,
          176.24779117941324,
          176.24779480310914,
          177.28643272359795,
          179.02413825465166,
          174.32035125748212,
          174.4401755841381,
          173.970796337573,
          174.58998693847352,
          172.3928704586823,
          169.1171936994851,
          171.79367303446756,
          170.9947228250154,
          172.0333568007432,
          170.86489259858558,
          173.56133385253202,
          173.57133741586642,
          176.5773617299011,
          177.86567695915278,
          177.96552989431075,
          179.83308692837295,
          181.1812956691862,
          176.5174539474347,
          176.41757374851082,
          175.34899014765352,
          175.80837998637364,
          175.07933758477537,
          170.685138104863,
          172.82232098392808,
          171.6538657387105,
          170.1458425788756,
          166.6903985036265,
          168.79761520936918,
          169.12718875588266,
          170.7750106172122,
          175.28907412436934,
          174.01075448735614,
          176.14794523268097,
          178.9442389455798,
          182.11008547723088,
          182.7192775556024,
          183.97000122070312,
          185.82000732421872,
          187.6999969482422,
          187.8500061035156,
          189.57000732421875,
          190.24999999999997,
          189.88999938964844,
          191.41000366210935,
          191.4900054931641,
          190.86999511718747,
          189.9199981689453,
          189.77999877929688,
          190.8999938964844,
          189.83999633789065,
          190.3300018310547,
          189.97999572753903,
          190.2100067138672,
          194.4499969482422,
          193.6300048828125,
          194.19999694824222,
          193.1100006103516,
          193.0800018310547,
          195.08999633789065,
          198.0200042724609,
          197.52999877929688,
          196.08999633789065,
          196.16000366210932,
          196.8999938964844,
          196.1000061035156,
          195.17999267578125,
          193.6100006103516,
          192.4900054931641,
          194.13999938964844,
          193.8999938964844
         ]
        },
        {
         "mode": "lines",
         "name": "Predicted",
         "type": "scatter",
         "x": [
          "2022-06-08T00:00:00",
          "2022-06-09T00:00:00",
          "2022-06-10T00:00:00",
          "2022-06-13T00:00:00",
          "2022-06-14T00:00:00",
          "2022-06-15T00:00:00",
          "2022-06-16T00:00:00",
          "2022-06-17T00:00:00",
          "2022-06-21T00:00:00",
          "2022-06-22T00:00:00",
          "2022-06-23T00:00:00",
          "2022-06-24T00:00:00",
          "2022-06-27T00:00:00",
          "2022-06-28T00:00:00",
          "2022-06-29T00:00:00",
          "2022-06-30T00:00:00",
          "2022-07-01T00:00:00",
          "2022-07-05T00:00:00",
          "2022-07-06T00:00:00",
          "2022-07-07T00:00:00",
          "2022-07-08T00:00:00",
          "2022-07-11T00:00:00",
          "2022-07-12T00:00:00",
          "2022-07-13T00:00:00",
          "2022-07-14T00:00:00",
          "2022-07-15T00:00:00",
          "2022-07-18T00:00:00",
          "2022-07-19T00:00:00",
          "2022-07-20T00:00:00",
          "2022-07-21T00:00:00",
          "2022-07-22T00:00:00",
          "2022-07-25T00:00:00",
          "2022-07-26T00:00:00",
          "2022-07-27T00:00:00",
          "2022-07-28T00:00:00",
          "2022-07-29T00:00:00",
          "2022-08-01T00:00:00",
          "2022-08-02T00:00:00",
          "2022-08-03T00:00:00",
          "2022-08-04T00:00:00",
          "2022-08-05T00:00:00",
          "2022-08-08T00:00:00",
          "2022-08-09T00:00:00",
          "2022-08-10T00:00:00",
          "2022-08-11T00:00:00",
          "2022-08-12T00:00:00",
          "2022-08-15T00:00:00",
          "2022-08-16T00:00:00",
          "2022-08-17T00:00:00",
          "2022-08-18T00:00:00",
          "2022-08-19T00:00:00",
          "2022-08-22T00:00:00",
          "2022-08-23T00:00:00",
          "2022-08-24T00:00:00",
          "2022-08-25T00:00:00",
          "2022-08-26T00:00:00",
          "2022-08-29T00:00:00",
          "2022-08-30T00:00:00",
          "2022-08-31T00:00:00",
          "2022-09-01T00:00:00",
          "2022-09-02T00:00:00",
          "2022-09-06T00:00:00",
          "2022-09-07T00:00:00",
          "2022-09-08T00:00:00",
          "2022-09-09T00:00:00",
          "2022-09-12T00:00:00",
          "2022-09-13T00:00:00",
          "2022-09-14T00:00:00",
          "2022-09-15T00:00:00",
          "2022-09-16T00:00:00",
          "2022-09-19T00:00:00",
          "2022-09-20T00:00:00",
          "2022-09-21T00:00:00",
          "2022-09-22T00:00:00",
          "2022-09-23T00:00:00",
          "2022-09-26T00:00:00",
          "2022-09-27T00:00:00",
          "2022-09-28T00:00:00",
          "2022-09-29T00:00:00",
          "2022-09-30T00:00:00",
          "2022-10-03T00:00:00",
          "2022-10-04T00:00:00",
          "2022-10-05T00:00:00",
          "2022-10-06T00:00:00",
          "2022-10-07T00:00:00",
          "2022-10-10T00:00:00",
          "2022-10-11T00:00:00",
          "2022-10-12T00:00:00",
          "2022-10-13T00:00:00",
          "2022-10-14T00:00:00",
          "2022-10-17T00:00:00",
          "2022-10-18T00:00:00",
          "2022-10-19T00:00:00",
          "2022-10-20T00:00:00",
          "2022-10-21T00:00:00",
          "2022-10-24T00:00:00",
          "2022-10-25T00:00:00",
          "2022-10-26T00:00:00",
          "2022-10-27T00:00:00",
          "2022-10-28T00:00:00",
          "2022-10-31T00:00:00",
          "2022-11-01T00:00:00",
          "2022-11-02T00:00:00",
          "2022-11-03T00:00:00",
          "2022-11-04T00:00:00",
          "2022-11-07T00:00:00",
          "2022-11-08T00:00:00",
          "2022-11-09T00:00:00",
          "2022-11-10T00:00:00",
          "2022-11-11T00:00:00",
          "2022-11-14T00:00:00",
          "2022-11-15T00:00:00",
          "2022-11-16T00:00:00",
          "2022-11-17T00:00:00",
          "2022-11-18T00:00:00",
          "2022-11-21T00:00:00",
          "2022-11-22T00:00:00",
          "2022-11-23T00:00:00",
          "2022-11-25T00:00:00",
          "2022-11-28T00:00:00",
          "2022-11-29T00:00:00",
          "2022-11-30T00:00:00",
          "2022-12-01T00:00:00",
          "2022-12-02T00:00:00",
          "2022-12-05T00:00:00",
          "2022-12-06T00:00:00",
          "2022-12-07T00:00:00",
          "2022-12-08T00:00:00",
          "2022-12-09T00:00:00",
          "2022-12-12T00:00:00",
          "2022-12-13T00:00:00",
          "2022-12-14T00:00:00",
          "2022-12-15T00:00:00",
          "2022-12-16T00:00:00",
          "2022-12-19T00:00:00",
          "2022-12-20T00:00:00",
          "2022-12-21T00:00:00",
          "2022-12-22T00:00:00",
          "2022-12-23T00:00:00",
          "2022-12-27T00:00:00",
          "2022-12-28T00:00:00",
          "2022-12-29T00:00:00",
          "2022-12-30T00:00:00",
          "2023-01-03T00:00:00",
          "2023-01-04T00:00:00",
          "2023-01-05T00:00:00",
          "2023-01-06T00:00:00",
          "2023-01-09T00:00:00",
          "2023-01-10T00:00:00",
          "2023-01-11T00:00:00",
          "2023-01-12T00:00:00",
          "2023-01-13T00:00:00",
          "2023-01-17T00:00:00",
          "2023-01-18T00:00:00",
          "2023-01-19T00:00:00",
          "2023-01-20T00:00:00",
          "2023-01-23T00:00:00",
          "2023-01-24T00:00:00",
          "2023-01-25T00:00:00",
          "2023-01-26T00:00:00",
          "2023-01-27T00:00:00",
          "2023-01-30T00:00:00",
          "2023-01-31T00:00:00",
          "2023-02-01T00:00:00",
          "2023-02-02T00:00:00",
          "2023-02-03T00:00:00",
          "2023-02-06T00:00:00",
          "2023-02-07T00:00:00",
          "2023-02-08T00:00:00",
          "2023-02-09T00:00:00",
          "2023-02-10T00:00:00",
          "2023-02-13T00:00:00",
          "2023-02-14T00:00:00",
          "2023-02-15T00:00:00",
          "2023-02-16T00:00:00",
          "2023-02-17T00:00:00",
          "2023-02-21T00:00:00",
          "2023-02-22T00:00:00",
          "2023-02-23T00:00:00",
          "2023-02-24T00:00:00",
          "2023-02-27T00:00:00",
          "2023-02-28T00:00:00",
          "2023-03-01T00:00:00",
          "2023-03-02T00:00:00",
          "2023-03-03T00:00:00",
          "2023-03-06T00:00:00",
          "2023-03-07T00:00:00",
          "2023-03-08T00:00:00",
          "2023-03-09T00:00:00",
          "2023-03-10T00:00:00",
          "2023-03-13T00:00:00",
          "2023-03-14T00:00:00",
          "2023-03-15T00:00:00",
          "2023-03-16T00:00:00",
          "2023-03-17T00:00:00",
          "2023-03-20T00:00:00",
          "2023-03-21T00:00:00",
          "2023-03-22T00:00:00",
          "2023-03-23T00:00:00",
          "2023-03-24T00:00:00",
          "2023-03-27T00:00:00",
          "2023-03-28T00:00:00",
          "2023-03-29T00:00:00",
          "2023-03-30T00:00:00",
          "2023-03-31T00:00:00",
          "2023-04-03T00:00:00",
          "2023-04-04T00:00:00",
          "2023-04-05T00:00:00",
          "2023-04-06T00:00:00",
          "2023-04-10T00:00:00",
          "2023-04-11T00:00:00",
          "2023-04-12T00:00:00",
          "2023-04-13T00:00:00",
          "2023-04-14T00:00:00",
          "2023-04-17T00:00:00",
          "2023-04-18T00:00:00",
          "2023-04-19T00:00:00",
          "2023-04-20T00:00:00",
          "2023-04-21T00:00:00",
          "2023-04-24T00:00:00",
          "2023-04-25T00:00:00",
          "2023-04-26T00:00:00",
          "2023-04-27T00:00:00",
          "2023-04-28T00:00:00",
          "2023-05-01T00:00:00",
          "2023-05-02T00:00:00",
          "2023-05-03T00:00:00",
          "2023-05-04T00:00:00",
          "2023-05-05T00:00:00",
          "2023-05-08T00:00:00",
          "2023-05-09T00:00:00",
          "2023-05-10T00:00:00",
          "2023-05-11T00:00:00",
          "2023-05-12T00:00:00",
          "2023-05-15T00:00:00",
          "2023-05-16T00:00:00",
          "2023-05-17T00:00:00",
          "2023-05-18T00:00:00",
          "2023-05-19T00:00:00",
          "2023-05-22T00:00:00",
          "2023-05-23T00:00:00",
          "2023-05-24T00:00:00",
          "2023-05-25T00:00:00",
          "2023-05-26T00:00:00",
          "2023-05-30T00:00:00",
          "2023-05-31T00:00:00",
          "2023-06-01T00:00:00",
          "2023-06-02T00:00:00",
          "2023-06-05T00:00:00",
          "2023-06-06T00:00:00",
          "2023-06-07T00:00:00",
          "2023-06-08T00:00:00",
          "2023-06-09T00:00:00",
          "2023-06-12T00:00:00",
          "2023-06-13T00:00:00",
          "2023-06-14T00:00:00",
          "2023-06-15T00:00:00",
          "2023-06-16T00:00:00",
          "2023-06-20T00:00:00",
          "2023-06-21T00:00:00",
          "2023-06-22T00:00:00",
          "2023-06-23T00:00:00",
          "2023-06-26T00:00:00",
          "2023-06-27T00:00:00",
          "2023-06-28T00:00:00",
          "2023-06-29T00:00:00",
          "2023-06-30T00:00:00",
          "2023-07-03T00:00:00",
          "2023-07-05T00:00:00",
          "2023-07-06T00:00:00",
          "2023-07-07T00:00:00",
          "2023-07-10T00:00:00",
          "2023-07-11T00:00:00",
          "2023-07-12T00:00:00",
          "2023-07-13T00:00:00",
          "2023-07-14T00:00:00",
          "2023-07-17T00:00:00",
          "2023-07-18T00:00:00",
          "2023-07-19T00:00:00",
          "2023-07-20T00:00:00",
          "2023-07-21T00:00:00",
          "2023-07-24T00:00:00",
          "2023-07-25T00:00:00",
          "2023-07-26T00:00:00",
          "2023-07-27T00:00:00",
          "2023-07-28T00:00:00",
          "2023-07-31T00:00:00",
          "2023-08-01T00:00:00",
          "2023-08-02T00:00:00",
          "2023-08-03T00:00:00",
          "2023-08-04T00:00:00",
          "2023-08-07T00:00:00",
          "2023-08-08T00:00:00",
          "2023-08-09T00:00:00",
          "2023-08-10T00:00:00",
          "2023-08-11T00:00:00",
          "2023-08-14T00:00:00",
          "2023-08-15T00:00:00",
          "2023-08-16T00:00:00",
          "2023-08-17T00:00:00",
          "2023-08-18T00:00:00",
          "2023-08-21T00:00:00",
          "2023-08-22T00:00:00",
          "2023-08-23T00:00:00",
          "2023-08-24T00:00:00",
          "2023-08-25T00:00:00",
          "2023-08-28T00:00:00",
          "2023-08-29T00:00:00",
          "2023-08-30T00:00:00",
          "2023-08-31T00:00:00",
          "2023-09-01T00:00:00",
          "2023-09-05T00:00:00",
          "2023-09-06T00:00:00",
          "2023-09-07T00:00:00",
          "2023-09-08T00:00:00",
          "2023-09-11T00:00:00",
          "2023-09-12T00:00:00",
          "2023-09-13T00:00:00",
          "2023-09-14T00:00:00",
          "2023-09-15T00:00:00",
          "2023-09-18T00:00:00",
          "2023-09-19T00:00:00",
          "2023-09-20T00:00:00",
          "2023-09-21T00:00:00",
          "2023-09-22T00:00:00",
          "2023-09-25T00:00:00",
          "2023-09-26T00:00:00",
          "2023-09-27T00:00:00",
          "2023-09-28T00:00:00",
          "2023-09-29T00:00:00",
          "2023-10-02T00:00:00",
          "2023-10-03T00:00:00",
          "2023-10-04T00:00:00",
          "2023-10-05T00:00:00",
          "2023-10-06T00:00:00",
          "2023-10-09T00:00:00",
          "2023-10-10T00:00:00",
          "2023-10-11T00:00:00",
          "2023-10-12T00:00:00",
          "2023-10-13T00:00:00",
          "2023-10-16T00:00:00",
          "2023-10-17T00:00:00",
          "2023-10-18T00:00:00",
          "2023-10-19T00:00:00",
          "2023-10-20T00:00:00",
          "2023-10-23T00:00:00",
          "2023-10-24T00:00:00",
          "2023-10-25T00:00:00",
          "2023-10-26T00:00:00",
          "2023-10-27T00:00:00",
          "2023-10-30T00:00:00",
          "2023-10-31T00:00:00",
          "2023-11-01T00:00:00",
          "2023-11-02T00:00:00",
          "2023-11-03T00:00:00",
          "2023-11-06T00:00:00",
          "2023-11-07T00:00:00",
          "2023-11-08T00:00:00",
          "2023-11-09T00:00:00",
          "2023-11-10T00:00:00",
          "2023-11-13T00:00:00",
          "2023-11-14T00:00:00",
          "2023-11-15T00:00:00",
          "2023-11-16T00:00:00",
          "2023-11-17T00:00:00",
          "2023-11-20T00:00:00",
          "2023-11-21T00:00:00",
          "2023-11-22T00:00:00",
          "2023-11-24T00:00:00",
          "2023-11-27T00:00:00",
          "2023-11-28T00:00:00",
          "2023-11-29T00:00:00",
          "2023-11-30T00:00:00",
          "2023-12-01T00:00:00",
          "2023-12-04T00:00:00",
          "2023-12-05T00:00:00",
          "2023-12-06T00:00:00",
          "2023-12-07T00:00:00",
          "2023-12-08T00:00:00",
          "2023-12-11T00:00:00",
          "2023-12-12T00:00:00",
          "2023-12-13T00:00:00",
          "2023-12-14T00:00:00",
          "2023-12-15T00:00:00",
          "2023-12-18T00:00:00",
          "2023-12-19T00:00:00",
          "2023-12-20T00:00:00",
          "2023-12-21T00:00:00",
          "2023-12-22T00:00:00",
          "2023-12-26T00:00:00",
          "2023-12-27T00:00:00",
          "2023-12-28T00:00:00",
          "2023-12-29T00:00:00"
         ],
         "y": [
          142.2364959716797,
          143.3677520751953,
          143.36044311523438,
          143.00552368164062,
          141.13949584960938,
          139.80734252929688,
          137.94033813476562,
          136.08346557617188,
          135.2885284423828,
          134.5793914794922,
          133.93592834472656,
          133.8362579345703,
          135.30361938476562,
          136.001708984375,
          135.7811737060547,
          135.89170837402344,
          136.21783447265625,
          136.3566131591797,
          135.57046508789062,
          136.30050659179688,
          137.0200958251953,
          138.26748657226562,
          139.48434448242188,
          140.64315795898438,
          141.0277557373047,
          141.30941772460938,
          142.91122436523438,
          143.876953125,
          145.14633178710938,
          146.78677368164062,
          149.087646484375,
          150.43682861328125,
          151.496337890625,
          152.40138244628906,
          152.57382202148438,
          154.00624084472656,
          155.90611267089844,
          156.65191650390625,
          156.8483123779297,
          157.3837890625,
          159.08688354492188,
          159.47784423828125,
          159.8466339111328,
          160.79647827148438,
          162.1179656982422,
          164.07308959960938,
          165.08929443359375,
          166.06521606445312,
          167.45407104492188,
          168.56216430664062,
          169.5908966064453,
          170.25155639648438,
          170.05734252929688,
          169.6287384033203,
          169.24957275390625,
          168.80548095703125,
          169.04246520996094,
          167.9020233154297,
          167.1897430419922,
          165.84060668945312,
          163.87696838378906,
          162.94082641601562,
          161.78826904296875,
          159.92849731445312,
          158.93588256835938,
          158.4525909423828,
          157.83462524414062,
          157.77267456054688,
          156.37701416015625,
          155.63121032714844,
          154.9870147705078,
          153.17816162109375,
          153.15142822265625,
          153.5049285888672,
          152.70657348632812,
          152.3548126220703,
          151.9805450439453,
          151.5746612548828,
          150.5143280029297,
          149.57981872558594,
          147.6750946044922,
          146.07359313964844,
          145.55715942382812,
          145.57086181640625,
          144.90159606933594,
          143.68374633789062,
          143.20774841308594,
          142.05101013183594,
          140.89364624023438,
          139.26719665527344,
          139.44227600097656,
          139.34664916992188,
          139.32333374023438,
          139.7949981689453,
          139.45828247070312,
          139.70530700683594,
          140.344482421875,
          141.572509765625,
          143.00437927246094,
          143.77821350097656,
          145.23013305664062,
          146.3662109375,
          147.88937377929688,
          147.42904663085938,
          147.39892578125,
          146.9154052734375,
          145.27320861816406,
          144.59808349609375,
          143.76487731933594,
          142.6870574951172,
          143.7661590576172,
          144.63998413085938,
          145.9951934814453,
          146.2461395263672,
          145.56845092773438,
          146.68264770507812,
          147.1849365234375,
          146.97023010253906,
          147.54576110839844,
          148.18215942382812,
          147.15536499023438,
          147.44528198242188,
          146.15377807617188,
          146.39517211914062,
          146.48707580566406,
          146.60374450683594,
          147.03591918945312,
          146.1681671142578,
          145.5982208251953,
          145.53305053710938,
          144.4337615966797,
          145.18214416503906,
          145.99603271484375,
          145.3975067138672,
          144.3817138671875,
          142.60435485839844,
          140.3828887939453,
          138.95835876464844,
          137.6847686767578,
          135.89727783203125,
          134.98013305664062,
          133.7226104736328,
          131.5126953125,
          129.62904357910156,
          128.89181518554688,
          128.30503845214844,
          128.54583740234375,
          128.09771728515625,
          128.36077880859375,
          128.57199096679688,
          128.3118896484375,
          129.4582977294922,
          129.30914306640625,
          130.4174041748047,
          132.1219940185547,
          131.80557250976562,
          132.08804321289062,
          133.08091735839844,
          134.3682098388672,
          135.50244140625,
          137.60020446777344,
          138.76707458496094,
          140.63861083984375,
          141.34393310546875,
          141.86021423339844,
          143.7911376953125,
          144.8639373779297,
          146.93881225585938,
          148.25076293945312,
          149.54310607910156,
          150.6423797607422,
          150.40286254882812,
          150.72987365722656,
          151.13304138183594,
          151.91180419921875,
          153.01611328125,
          153.42489624023438,
          152.7553253173828,
          152.27291870117188,
          152.424560546875,
          151.46348571777344,
          151.14222717285156,
          150.82797241210938,
          150.54550170898438,
          149.6184844970703,
          149.5345001220703,
          150.0493927001953,
          150.88314819335938,
          151.42996215820312,
          151.9965057373047,
          151.97348022460938,
          150.9097900390625,
          151.76766967773438,
          151.4683837890625,
          151.2638397216797,
          152.91481018066406,
          153.6060028076172,
          154.5905303955078,
          155.28855895996094,
          155.96617126464844,
          156.52972412109375,
          157.49122619628906,
          157.8538360595703,
          158.4922332763672,
          159.7462921142578,
          159.9136199951172,
          160.9499969482422,
          161.6955108642578,
          162.50250244140625,
          162.7928924560547,
          162.48538208007812,
          162.80322265625,
          162.21951293945312,
          162.12779235839844,
          162.5247039794922,
          162.6212921142578,
          162.9388427734375,
          163.5758056640625,
          163.7167510986328,
          163.443115234375,
          163.93936157226562,
          164.09608459472656,
          163.7717742919922,
          164.1973876953125,
          164.9541778564453,
          165.45057678222656,
          165.8841552734375,
          166.20960998535156,
          165.64137268066406,
          166.51242065429688,
          167.52456665039062,
          167.87762451171875,
          168.77908325195312,
          169.50343322753906,
          170.0381622314453,
          170.38128662109375,
          170.5634765625,
          170.3822479248047,
          170.7627410888672,
          171.61215209960938,
          171.71875,
          171.7967529296875,
          171.4464874267578,
          171.4046630859375,
          171.2455596923828,
          171.7023468017578,
          172.22103881835938,
          172.6303253173828,
          173.62709045410156,
          174.59063720703125,
          174.64442443847656,
          174.7627410888672,
          175.1090850830078,
          175.60523986816406,
          176.1355743408203,
          176.7928009033203,
          177.24505615234375,
          177.7281494140625,
          178.4546661376953,
          178.76681518554688,
          179.047119140625,
          179.48919677734375,
          179.92440795898438,
          180.4215850830078,
          180.6860809326172,
          180.958984375,
          181.57777404785156,
          182.32139587402344,
          183.41867065429688,
          183.80239868164062,
          183.9949493408203,
          184.3816375732422,
          184.0906219482422,
          183.94334411621094,
          183.9272918701172,
          183.98501586914062,
          184.2676544189453,
          184.44960021972656,
          184.8717803955078,
          184.90345764160156,
          185.53402709960938,
          185.78062438964844,
          185.86732482910156,
          186.22134399414062,
          186.36549377441406,
          186.94110107421875,
          186.77906799316406,
          187.0544891357422,
          187.4412384033203,
          187.41012573242188,
          187.03555297851562,
          185.818603515625,
          184.4671173095703,
          182.9440155029297,
          181.80101013183594,
          180.5298614501953,
          179.12908935546875,
          178.23760986328125,
          177.37841796875,
          176.4750213623047,
          175.43692016601562,
          174.0850067138672,
          173.47506713867188,
          173.34730529785156,
          173.19625854492188,
          173.49505615234375,
          173.30393981933594,
          173.3974151611328,
          173.63931274414062,
          174.36656188964844,
          175.7046661376953,
          176.9766082763672,
          178.2081756591797,
          178.95144653320312,
          177.88980102539062,
          177.2581024169922,
          177.5076446533203,
          177.06895446777344,
          176.4412078857422,
          176.0864715576172,
          175.63674926757812,
          175.2262725830078,
          174.76995849609375,
          174.4404754638672,
          173.53672790527344,
          173.11961364746094,
          172.84046936035156,
          172.3628387451172,
          170.75836181640625,
          169.7146759033203,
          169.13369750976562,
          168.69351196289062,
          168.61619567871094,
          168.593994140625,
          168.947021484375,
          168.89781188964844,
          169.26150512695312,
          170.0437469482422,
          170.8823699951172,
          171.8448028564453,
          173.06045532226562,
          173.27670288085938,
          173.3302459716797,
          173.66957092285156,
          173.82952880859375,
          173.52679443359375,
          173.03578186035156,
          172.81558227539062,
          172.6974334716797,
          171.39678955078125,
          170.2921905517578,
          169.10598754882812,
          168.40011596679688,
          168.00286865234375,
          168.9276885986328,
          169.0498809814453,
          169.3353729248047,
          170.6987762451172,
          171.57025146484375,
          172.9471893310547,
          173.90797424316406,
          175.50502014160156,
          177.04071044921875,
          177.80938720703125,
          178.9696807861328,
          180.2269287109375,
          180.9836883544922,
          182.2783966064453,
          183.00148010253906,
          183.66851806640625,
          184.25527954101562,
          184.74545288085938,
          185.02865600585938,
          185.02833557128906,
          185.4888153076172,
          185.51449584960938,
          185.5705108642578,
          185.8661346435547,
          186.0491485595703,
          186.2375946044922,
          186.03663635253906,
          186.03472900390625,
          186.20835876464844,
          186.82337951660156,
          187.15513610839844,
          187.11766052246094,
          187.6140899658203,
          187.7300567626953,
          188.0149383544922,
          187.9901123046875,
          187.86282348632812,
          187.83653259277344,
          187.93136596679688
         ]
        },
        {
         "fill": "toself",
         "fillcolor": "grey",
         "line": {
          "color": "rgba(255,255,255,0)"
         },
         "opacity": 0.3,
         "showlegend": false,
         "type": "scatter",
         "x": [
          "2022-06-08T00:00:00",
          "2022-06-09T00:00:00",
          "2022-06-10T00:00:00",
          "2022-06-13T00:00:00",
          "2022-06-14T00:00:00",
          "2022-06-15T00:00:00",
          "2022-06-16T00:00:00",
          "2022-06-17T00:00:00",
          "2022-06-21T00:00:00",
          "2022-06-22T00:00:00",
          "2022-06-23T00:00:00",
          "2022-06-24T00:00:00",
          "2022-06-27T00:00:00",
          "2022-06-28T00:00:00",
          "2022-06-29T00:00:00",
          "2022-06-30T00:00:00",
          "2022-07-01T00:00:00",
          "2022-07-05T00:00:00",
          "2022-07-06T00:00:00",
          "2022-07-07T00:00:00",
          "2022-07-08T00:00:00",
          "2022-07-11T00:00:00",
          "2022-07-12T00:00:00",
          "2022-07-13T00:00:00",
          "2022-07-14T00:00:00",
          "2022-07-15T00:00:00",
          "2022-07-18T00:00:00",
          "2022-07-19T00:00:00",
          "2022-07-20T00:00:00",
          "2022-07-21T00:00:00",
          "2022-07-22T00:00:00",
          "2022-07-25T00:00:00",
          "2022-07-26T00:00:00",
          "2022-07-27T00:00:00",
          "2022-07-28T00:00:00",
          "2022-07-29T00:00:00",
          "2022-08-01T00:00:00",
          "2022-08-02T00:00:00",
          "2022-08-03T00:00:00",
          "2022-08-04T00:00:00",
          "2022-08-05T00:00:00",
          "2022-08-08T00:00:00",
          "2022-08-09T00:00:00",
          "2022-08-10T00:00:00",
          "2022-08-11T00:00:00",
          "2022-08-12T00:00:00",
          "2022-08-15T00:00:00",
          "2022-08-16T00:00:00",
          "2022-08-17T00:00:00",
          "2022-08-18T00:00:00",
          "2022-08-19T00:00:00",
          "2022-08-22T00:00:00",
          "2022-08-23T00:00:00",
          "2022-08-24T00:00:00",
          "2022-08-25T00:00:00",
          "2022-08-26T00:00:00",
          "2022-08-29T00:00:00",
          "2022-08-30T00:00:00",
          "2022-08-31T00:00:00",
          "2022-09-01T00:00:00",
          "2022-09-02T00:00:00",
          "2022-09-06T00:00:00",
          "2022-09-07T00:00:00",
          "2022-09-08T00:00:00",
          "2022-09-09T00:00:00",
          "2022-09-12T00:00:00",
          "2022-09-13T00:00:00",
          "2022-09-14T00:00:00",
          "2022-09-15T00:00:00",
          "2022-09-16T00:00:00",
          "2022-09-19T00:00:00",
          "2022-09-20T00:00:00",
          "2022-09-21T00:00:00",
          "2022-09-22T00:00:00",
          "2022-09-23T00:00:00",
          "2022-09-26T00:00:00",
          "2022-09-27T00:00:00",
          "2022-09-28T00:00:00",
          "2022-09-29T00:00:00",
          "2022-09-30T00:00:00",
          "2022-10-03T00:00:00",
          "2022-10-04T00:00:00",
          "2022-10-05T00:00:00",
          "2022-10-06T00:00:00",
          "2022-10-07T00:00:00",
          "2022-10-10T00:00:00",
          "2022-10-11T00:00:00",
          "2022-10-12T00:00:00",
          "2022-10-13T00:00:00",
          "2022-10-14T00:00:00",
          "2022-10-17T00:00:00",
          "2022-10-18T00:00:00",
          "2022-10-19T00:00:00",
          "2022-10-20T00:00:00",
          "2022-10-21T00:00:00",
          "2022-10-24T00:00:00",
          "2022-10-25T00:00:00",
          "2022-10-26T00:00:00",
          "2022-10-27T00:00:00",
          "2022-10-28T00:00:00",
          "2022-10-31T00:00:00",
          "2022-11-01T00:00:00",
          "2022-11-02T00:00:00",
          "2022-11-03T00:00:00",
          "2022-11-04T00:00:00",
          "2022-11-07T00:00:00",
          "2022-11-08T00:00:00",
          "2022-11-09T00:00:00",
          "2022-11-10T00:00:00",
          "2022-11-11T00:00:00",
          "2022-11-14T00:00:00",
          "2022-11-15T00:00:00",
          "2022-11-16T00:00:00",
          "2022-11-17T00:00:00",
          "2022-11-18T00:00:00",
          "2022-11-21T00:00:00",
          "2022-11-22T00:00:00",
          "2022-11-23T00:00:00",
          "2022-11-25T00:00:00",
          "2022-11-28T00:00:00",
          "2022-11-29T00:00:00",
          "2022-11-30T00:00:00",
          "2022-12-01T00:00:00",
          "2022-12-02T00:00:00",
          "2022-12-05T00:00:00",
          "2022-12-06T00:00:00",
          "2022-12-07T00:00:00",
          "2022-12-08T00:00:00",
          "2022-12-09T00:00:00",
          "2022-12-12T00:00:00",
          "2022-12-13T00:00:00",
          "2022-12-14T00:00:00",
          "2022-12-15T00:00:00",
          "2022-12-16T00:00:00",
          "2022-12-19T00:00:00",
          "2022-12-20T00:00:00",
          "2022-12-21T00:00:00",
          "2022-12-22T00:00:00",
          "2022-12-23T00:00:00",
          "2022-12-27T00:00:00",
          "2022-12-28T00:00:00",
          "2022-12-29T00:00:00",
          "2022-12-30T00:00:00",
          "2023-01-03T00:00:00",
          "2023-01-04T00:00:00",
          "2023-01-05T00:00:00",
          "2023-01-06T00:00:00",
          "2023-01-09T00:00:00",
          "2023-01-10T00:00:00",
          "2023-01-11T00:00:00",
          "2023-01-12T00:00:00",
          "2023-01-13T00:00:00",
          "2023-01-17T00:00:00",
          "2023-01-18T00:00:00",
          "2023-01-19T00:00:00",
          "2023-01-20T00:00:00",
          "2023-01-23T00:00:00",
          "2023-01-24T00:00:00",
          "2023-01-25T00:00:00",
          "2023-01-26T00:00:00",
          "2023-01-27T00:00:00",
          "2023-01-30T00:00:00",
          "2023-01-31T00:00:00",
          "2023-02-01T00:00:00",
          "2023-02-02T00:00:00",
          "2023-02-03T00:00:00",
          "2023-02-06T00:00:00",
          "2023-02-07T00:00:00",
          "2023-02-08T00:00:00",
          "2023-02-09T00:00:00",
          "2023-02-10T00:00:00",
          "2023-02-13T00:00:00",
          "2023-02-14T00:00:00",
          "2023-02-15T00:00:00",
          "2023-02-16T00:00:00",
          "2023-02-17T00:00:00",
          "2023-02-21T00:00:00",
          "2023-02-22T00:00:00",
          "2023-02-23T00:00:00",
          "2023-02-24T00:00:00",
          "2023-02-27T00:00:00",
          "2023-02-28T00:00:00",
          "2023-03-01T00:00:00",
          "2023-03-02T00:00:00",
          "2023-03-03T00:00:00",
          "2023-03-06T00:00:00",
          "2023-03-07T00:00:00",
          "2023-03-08T00:00:00",
          "2023-03-09T00:00:00",
          "2023-03-10T00:00:00",
          "2023-03-13T00:00:00",
          "2023-03-14T00:00:00",
          "2023-03-15T00:00:00",
          "2023-03-16T00:00:00",
          "2023-03-17T00:00:00",
          "2023-03-20T00:00:00",
          "2023-03-21T00:00:00",
          "2023-03-22T00:00:00",
          "2023-03-23T00:00:00",
          "2023-03-24T00:00:00",
          "2023-03-27T00:00:00",
          "2023-03-28T00:00:00",
          "2023-03-29T00:00:00",
          "2023-03-30T00:00:00",
          "2023-03-31T00:00:00",
          "2023-04-03T00:00:00",
          "2023-04-04T00:00:00",
          "2023-04-05T00:00:00",
          "2023-04-06T00:00:00",
          "2023-04-10T00:00:00",
          "2023-04-11T00:00:00",
          "2023-04-12T00:00:00",
          "2023-04-13T00:00:00",
          "2023-04-14T00:00:00",
          "2023-04-17T00:00:00",
          "2023-04-18T00:00:00",
          "2023-04-19T00:00:00",
          "2023-04-20T00:00:00",
          "2023-04-21T00:00:00",
          "2023-04-24T00:00:00",
          "2023-04-25T00:00:00",
          "2023-04-26T00:00:00",
          "2023-04-27T00:00:00",
          "2023-04-28T00:00:00",
          "2023-05-01T00:00:00",
          "2023-05-02T00:00:00",
          "2023-05-03T00:00:00",
          "2023-05-04T00:00:00",
          "2023-05-05T00:00:00",
          "2023-05-08T00:00:00",
          "2023-05-09T00:00:00",
          "2023-05-10T00:00:00",
          "2023-05-11T00:00:00",
          "2023-05-12T00:00:00",
          "2023-05-15T00:00:00",
          "2023-05-16T00:00:00",
          "2023-05-17T00:00:00",
          "2023-05-18T00:00:00",
          "2023-05-19T00:00:00",
          "2023-05-22T00:00:00",
          "2023-05-23T00:00:00",
          "2023-05-24T00:00:00",
          "2023-05-25T00:00:00",
          "2023-05-26T00:00:00",
          "2023-05-30T00:00:00",
          "2023-05-31T00:00:00",
          "2023-06-01T00:00:00",
          "2023-06-02T00:00:00",
          "2023-06-05T00:00:00",
          "2023-06-06T00:00:00",
          "2023-06-07T00:00:00",
          "2023-06-08T00:00:00",
          "2023-06-09T00:00:00",
          "2023-06-12T00:00:00",
          "2023-06-13T00:00:00",
          "2023-06-14T00:00:00",
          "2023-06-15T00:00:00",
          "2023-06-16T00:00:00",
          "2023-06-20T00:00:00",
          "2023-06-21T00:00:00",
          "2023-06-22T00:00:00",
          "2023-06-23T00:00:00",
          "2023-06-26T00:00:00",
          "2023-06-27T00:00:00",
          "2023-06-28T00:00:00",
          "2023-06-29T00:00:00",
          "2023-06-30T00:00:00",
          "2023-07-03T00:00:00",
          "2023-07-05T00:00:00",
          "2023-07-06T00:00:00",
          "2023-07-07T00:00:00",
          "2023-07-10T00:00:00",
          "2023-07-11T00:00:00",
          "2023-07-12T00:00:00",
          "2023-07-13T00:00:00",
          "2023-07-14T00:00:00",
          "2023-07-17T00:00:00",
          "2023-07-18T00:00:00",
          "2023-07-19T00:00:00",
          "2023-07-20T00:00:00",
          "2023-07-21T00:00:00",
          "2023-07-24T00:00:00",
          "2023-07-25T00:00:00",
          "2023-07-26T00:00:00",
          "2023-07-27T00:00:00",
          "2023-07-28T00:00:00",
          "2023-07-31T00:00:00",
          "2023-08-01T00:00:00",
          "2023-08-02T00:00:00",
          "2023-08-03T00:00:00",
          "2023-08-04T00:00:00",
          "2023-08-07T00:00:00",
          "2023-08-08T00:00:00",
          "2023-08-09T00:00:00",
          "2023-08-10T00:00:00",
          "2023-08-11T00:00:00",
          "2023-08-14T00:00:00",
          "2023-08-15T00:00:00",
          "2023-08-16T00:00:00",
          "2023-08-17T00:00:00",
          "2023-08-18T00:00:00",
          "2023-08-21T00:00:00",
          "2023-08-22T00:00:00",
          "2023-08-23T00:00:00",
          "2023-08-24T00:00:00",
          "2023-08-25T00:00:00",
          "2023-08-28T00:00:00",
          "2023-08-29T00:00:00",
          "2023-08-30T00:00:00",
          "2023-08-31T00:00:00",
          "2023-09-01T00:00:00",
          "2023-09-05T00:00:00",
          "2023-09-06T00:00:00",
          "2023-09-07T00:00:00",
          "2023-09-08T00:00:00",
          "2023-09-11T00:00:00",
          "2023-09-12T00:00:00",
          "2023-09-13T00:00:00",
          "2023-09-14T00:00:00",
          "2023-09-15T00:00:00",
          "2023-09-18T00:00:00",
          "2023-09-19T00:00:00",
          "2023-09-20T00:00:00",
          "2023-09-21T00:00:00",
          "2023-09-22T00:00:00",
          "2023-09-25T00:00:00",
          "2023-09-26T00:00:00",
          "2023-09-27T00:00:00",
          "2023-09-28T00:00:00",
          "2023-09-29T00:00:00",
          "2023-10-02T00:00:00",
          "2023-10-03T00:00:00",
          "2023-10-04T00:00:00",
          "2023-10-05T00:00:00",
          "2023-10-06T00:00:00",
          "2023-10-09T00:00:00",
          "2023-10-10T00:00:00",
          "2023-10-11T00:00:00",
          "2023-10-12T00:00:00",
          "2023-10-13T00:00:00",
          "2023-10-16T00:00:00",
          "2023-10-17T00:00:00",
          "2023-10-18T00:00:00",
          "2023-10-19T00:00:00",
          "2023-10-20T00:00:00",
          "2023-10-23T00:00:00",
          "2023-10-24T00:00:00",
          "2023-10-25T00:00:00",
          "2023-10-26T00:00:00",
          "2023-10-27T00:00:00",
          "2023-10-30T00:00:00",
          "2023-10-31T00:00:00",
          "2023-11-01T00:00:00",
          "2023-11-02T00:00:00",
          "2023-11-03T00:00:00",
          "2023-11-06T00:00:00",
          "2023-11-07T00:00:00",
          "2023-11-08T00:00:00",
          "2023-11-09T00:00:00",
          "2023-11-10T00:00:00",
          "2023-11-13T00:00:00",
          "2023-11-14T00:00:00",
          "2023-11-15T00:00:00",
          "2023-11-16T00:00:00",
          "2023-11-17T00:00:00",
          "2023-11-20T00:00:00",
          "2023-11-21T00:00:00",
          "2023-11-22T00:00:00",
          "2023-11-24T00:00:00",
          "2023-11-27T00:00:00",
          "2023-11-28T00:00:00",
          "2023-11-29T00:00:00",
          "2023-11-30T00:00:00",
          "2023-12-01T00:00:00",
          "2023-12-04T00:00:00",
          "2023-12-05T00:00:00",
          "2023-12-06T00:00:00",
          "2023-12-07T00:00:00",
          "2023-12-08T00:00:00",
          "2023-12-11T00:00:00",
          "2023-12-12T00:00:00",
          "2023-12-13T00:00:00",
          "2023-12-14T00:00:00",
          "2023-12-15T00:00:00",
          "2023-12-18T00:00:00",
          "2023-12-19T00:00:00",
          "2023-12-20T00:00:00",
          "2023-12-21T00:00:00",
          "2023-12-22T00:00:00",
          "2023-12-26T00:00:00",
          "2023-12-27T00:00:00",
          "2023-12-28T00:00:00",
          "2023-12-29T00:00:00",
          "2023-12-29T00:00:00",
          "2023-12-28T00:00:00",
          "2023-12-27T00:00:00",
          "2023-12-26T00:00:00",
          "2023-12-22T00:00:00",
          "2023-12-21T00:00:00",
          "2023-12-20T00:00:00",
          "2023-12-19T00:00:00",
          "2023-12-18T00:00:00",
          "2023-12-15T00:00:00",
          "2023-12-14T00:00:00",
          "2023-12-13T00:00:00",
          "2023-12-12T00:00:00",
          "2023-12-11T00:00:00",
          "2023-12-08T00:00:00",
          "2023-12-07T00:00:00",
          "2023-12-06T00:00:00",
          "2023-12-05T00:00:00",
          "2023-12-04T00:00:00",
          "2023-12-01T00:00:00",
          "2023-11-30T00:00:00",
          "2023-11-29T00:00:00",
          "2023-11-28T00:00:00",
          "2023-11-27T00:00:00",
          "2023-11-24T00:00:00",
          "2023-11-22T00:00:00",
          "2023-11-21T00:00:00",
          "2023-11-20T00:00:00",
          "2023-11-17T00:00:00",
          "2023-11-16T00:00:00",
          "2023-11-15T00:00:00",
          "2023-11-14T00:00:00",
          "2023-11-13T00:00:00",
          "2023-11-10T00:00:00",
          "2023-11-09T00:00:00",
          "2023-11-08T00:00:00",
          "2023-11-07T00:00:00",
          "2023-11-06T00:00:00",
          "2023-11-03T00:00:00",
          "2023-11-02T00:00:00",
          "2023-11-01T00:00:00",
          "2023-10-31T00:00:00",
          "2023-10-30T00:00:00",
          "2023-10-27T00:00:00",
          "2023-10-26T00:00:00",
          "2023-10-25T00:00:00",
          "2023-10-24T00:00:00",
          "2023-10-23T00:00:00",
          "2023-10-20T00:00:00",
          "2023-10-19T00:00:00",
          "2023-10-18T00:00:00",
          "2023-10-17T00:00:00",
          "2023-10-16T00:00:00",
          "2023-10-13T00:00:00",
          "2023-10-12T00:00:00",
          "2023-10-11T00:00:00",
          "2023-10-10T00:00:00",
          "2023-10-09T00:00:00",
          "2023-10-06T00:00:00",
          "2023-10-05T00:00:00",
          "2023-10-04T00:00:00",
          "2023-10-03T00:00:00",
          "2023-10-02T00:00:00",
          "2023-09-29T00:00:00",
          "2023-09-28T00:00:00",
          "2023-09-27T00:00:00",
          "2023-09-26T00:00:00",
          "2023-09-25T00:00:00",
          "2023-09-22T00:00:00",
          "2023-09-21T00:00:00",
          "2023-09-20T00:00:00",
          "2023-09-19T00:00:00",
          "2023-09-18T00:00:00",
          "2023-09-15T00:00:00",
          "2023-09-14T00:00:00",
          "2023-09-13T00:00:00",
          "2023-09-12T00:00:00",
          "2023-09-11T00:00:00",
          "2023-09-08T00:00:00",
          "2023-09-07T00:00:00",
          "2023-09-06T00:00:00",
          "2023-09-05T00:00:00",
          "2023-09-01T00:00:00",
          "2023-08-31T00:00:00",
          "2023-08-30T00:00:00",
          "2023-08-29T00:00:00",
          "2023-08-28T00:00:00",
          "2023-08-25T00:00:00",
          "2023-08-24T00:00:00",
          "2023-08-23T00:00:00",
          "2023-08-22T00:00:00",
          "2023-08-21T00:00:00",
          "2023-08-18T00:00:00",
          "2023-08-17T00:00:00",
          "2023-08-16T00:00:00",
          "2023-08-15T00:00:00",
          "2023-08-14T00:00:00",
          "2023-08-11T00:00:00",
          "2023-08-10T00:00:00",
          "2023-08-09T00:00:00",
          "2023-08-08T00:00:00",
          "2023-08-07T00:00:00",
          "2023-08-04T00:00:00",
          "2023-08-03T00:00:00",
          "2023-08-02T00:00:00",
          "2023-08-01T00:00:00",
          "2023-07-31T00:00:00",
          "2023-07-28T00:00:00",
          "2023-07-27T00:00:00",
          "2023-07-26T00:00:00",
          "2023-07-25T00:00:00",
          "2023-07-24T00:00:00",
          "2023-07-21T00:00:00",
          "2023-07-20T00:00:00",
          "2023-07-19T00:00:00",
          "2023-07-18T00:00:00",
          "2023-07-17T00:00:00",
          "2023-07-14T00:00:00",
          "2023-07-13T00:00:00",
          "2023-07-12T00:00:00",
          "2023-07-11T00:00:00",
          "2023-07-10T00:00:00",
          "2023-07-07T00:00:00",
          "2023-07-06T00:00:00",
          "2023-07-05T00:00:00",
          "2023-07-03T00:00:00",
          "2023-06-30T00:00:00",
          "2023-06-29T00:00:00",
          "2023-06-28T00:00:00",
          "2023-06-27T00:00:00",
          "2023-06-26T00:00:00",
          "2023-06-23T00:00:00",
          "2023-06-22T00:00:00",
          "2023-06-21T00:00:00",
          "2023-06-20T00:00:00",
          "2023-06-16T00:00:00",
          "2023-06-15T00:00:00",
          "2023-06-14T00:00:00",
          "2023-06-13T00:00:00",
          "2023-06-12T00:00:00",
          "2023-06-09T00:00:00",
          "2023-06-08T00:00:00",
          "2023-06-07T00:00:00",
          "2023-06-06T00:00:00",
          "2023-06-05T00:00:00",
          "2023-06-02T00:00:00",
          "2023-06-01T00:00:00",
          "2023-05-31T00:00:00",
          "2023-05-30T00:00:00",
          "2023-05-26T00:00:00",
          "2023-05-25T00:00:00",
          "2023-05-24T00:00:00",
          "2023-05-23T00:00:00",
          "2023-05-22T00:00:00",
          "2023-05-19T00:00:00",
          "2023-05-18T00:00:00",
          "2023-05-17T00:00:00",
          "2023-05-16T00:00:00",
          "2023-05-15T00:00:00",
          "2023-05-12T00:00:00",
          "2023-05-11T00:00:00",
          "2023-05-10T00:00:00",
          "2023-05-09T00:00:00",
          "2023-05-08T00:00:00",
          "2023-05-05T00:00:00",
          "2023-05-04T00:00:00",
          "2023-05-03T00:00:00",
          "2023-05-02T00:00:00",
          "2023-05-01T00:00:00",
          "2023-04-28T00:00:00",
          "2023-04-27T00:00:00",
          "2023-04-26T00:00:00",
          "2023-04-25T00:00:00",
          "2023-04-24T00:00:00",
          "2023-04-21T00:00:00",
          "2023-04-20T00:00:00",
          "2023-04-19T00:00:00",
          "2023-04-18T00:00:00",
          "2023-04-17T00:00:00",
          "2023-04-14T00:00:00",
          "2023-04-13T00:00:00",
          "2023-04-12T00:00:00",
          "2023-04-11T00:00:00",
          "2023-04-10T00:00:00",
          "2023-04-06T00:00:00",
          "2023-04-05T00:00:00",
          "2023-04-04T00:00:00",
          "2023-04-03T00:00:00",
          "2023-03-31T00:00:00",
          "2023-03-30T00:00:00",
          "2023-03-29T00:00:00",
          "2023-03-28T00:00:00",
          "2023-03-27T00:00:00",
          "2023-03-24T00:00:00",
          "2023-03-23T00:00:00",
          "2023-03-22T00:00:00",
          "2023-03-21T00:00:00",
          "2023-03-20T00:00:00",
          "2023-03-17T00:00:00",
          "2023-03-16T00:00:00",
          "2023-03-15T00:00:00",
          "2023-03-14T00:00:00",
          "2023-03-13T00:00:00",
          "2023-03-10T00:00:00",
          "2023-03-09T00:00:00",
          "2023-03-08T00:00:00",
          "2023-03-07T00:00:00",
          "2023-03-06T00:00:00",
          "2023-03-03T00:00:00",
          "2023-03-02T00:00:00",
          "2023-03-01T00:00:00",
          "2023-02-28T00:00:00",
          "2023-02-27T00:00:00",
          "2023-02-24T00:00:00",
          "2023-02-23T00:00:00",
          "2023-02-22T00:00:00",
          "2023-02-21T00:00:00",
          "2023-02-17T00:00:00",
          "2023-02-16T00:00:00",
          "2023-02-15T00:00:00",
          "2023-02-14T00:00:00",
          "2023-02-13T00:00:00",
          "2023-02-10T00:00:00",
          "2023-02-09T00:00:00",
          "2023-02-08T00:00:00",
          "2023-02-07T00:00:00",
          "2023-02-06T00:00:00",
          "2023-02-03T00:00:00",
          "2023-02-02T00:00:00",
          "2023-02-01T00:00:00",
          "2023-01-31T00:00:00",
          "2023-01-30T00:00:00",
          "2023-01-27T00:00:00",
          "2023-01-26T00:00:00",
          "2023-01-25T00:00:00",
          "2023-01-24T00:00:00",
          "2023-01-23T00:00:00",
          "2023-01-20T00:00:00",
          "2023-01-19T00:00:00",
          "2023-01-18T00:00:00",
          "2023-01-17T00:00:00",
          "2023-01-13T00:00:00",
          "2023-01-12T00:00:00",
          "2023-01-11T00:00:00",
          "2023-01-10T00:00:00",
          "2023-01-09T00:00:00",
          "2023-01-06T00:00:00",
          "2023-01-05T00:00:00",
          "2023-01-04T00:00:00",
          "2023-01-03T00:00:00",
          "2022-12-30T00:00:00",
          "2022-12-29T00:00:00",
          "2022-12-28T00:00:00",
          "2022-12-27T00:00:00",
          "2022-12-23T00:00:00",
          "2022-12-22T00:00:00",
          "2022-12-21T00:00:00",
          "2022-12-20T00:00:00",
          "2022-12-19T00:00:00",
          "2022-12-16T00:00:00",
          "2022-12-15T00:00:00",
          "2022-12-14T00:00:00",
          "2022-12-13T00:00:00",
          "2022-12-12T00:00:00",
          "2022-12-09T00:00:00",
          "2022-12-08T00:00:00",
          "2022-12-07T00:00:00",
          "2022-12-06T00:00:00",
          "2022-12-05T00:00:00",
          "2022-12-02T00:00:00",
          "2022-12-01T00:00:00",
          "2022-11-30T00:00:00",
          "2022-11-29T00:00:00",
          "2022-11-28T00:00:00",
          "2022-11-25T00:00:00",
          "2022-11-23T00:00:00",
          "2022-11-22T00:00:00",
          "2022-11-21T00:00:00",
          "2022-11-18T00:00:00",
          "2022-11-17T00:00:00",
          "2022-11-16T00:00:00",
          "2022-11-15T00:00:00",
          "2022-11-14T00:00:00",
          "2022-11-11T00:00:00",
          "2022-11-10T00:00:00",
          "2022-11-09T00:00:00",
          "2022-11-08T00:00:00",
          "2022-11-07T00:00:00",
          "2022-11-04T00:00:00",
          "2022-11-03T00:00:00",
          "2022-11-02T00:00:00",
          "2022-11-01T00:00:00",
          "2022-10-31T00:00:00",
          "2022-10-28T00:00:00",
          "2022-10-27T00:00:00",
          "2022-10-26T00:00:00",
          "2022-10-25T00:00:00",
          "2022-10-24T00:00:00",
          "2022-10-21T00:00:00",
          "2022-10-20T00:00:00",
          "2022-10-19T00:00:00",
          "2022-10-18T00:00:00",
          "2022-10-17T00:00:00",
          "2022-10-14T00:00:00",
          "2022-10-13T00:00:00",
          "2022-10-12T00:00:00",
          "2022-10-11T00:00:00",
          "2022-10-10T00:00:00",
          "2022-10-07T00:00:00",
          "2022-10-06T00:00:00",
          "2022-10-05T00:00:00",
          "2022-10-04T00:00:00",
          "2022-10-03T00:00:00",
          "2022-09-30T00:00:00",
          "2022-09-29T00:00:00",
          "2022-09-28T00:00:00",
          "2022-09-27T00:00:00",
          "2022-09-26T00:00:00",
          "2022-09-23T00:00:00",
          "2022-09-22T00:00:00",
          "2022-09-21T00:00:00",
          "2022-09-20T00:00:00",
          "2022-09-19T00:00:00",
          "2022-09-16T00:00:00",
          "2022-09-15T00:00:00",
          "2022-09-14T00:00:00",
          "2022-09-13T00:00:00",
          "2022-09-12T00:00:00",
          "2022-09-09T00:00:00",
          "2022-09-08T00:00:00",
          "2022-09-07T00:00:00",
          "2022-09-06T00:00:00",
          "2022-09-02T00:00:00",
          "2022-09-01T00:00:00",
          "2022-08-31T00:00:00",
          "2022-08-30T00:00:00",
          "2022-08-29T00:00:00",
          "2022-08-26T00:00:00",
          "2022-08-25T00:00:00",
          "2022-08-24T00:00:00",
          "2022-08-23T00:00:00",
          "2022-08-22T00:00:00",
          "2022-08-19T00:00:00",
          "2022-08-18T00:00:00",
          "2022-08-17T00:00:00",
          "2022-08-16T00:00:00",
          "2022-08-15T00:00:00",
          "2022-08-12T00:00:00",
          "2022-08-11T00:00:00",
          "2022-08-10T00:00:00",
          "2022-08-09T00:00:00",
          "2022-08-08T00:00:00",
          "2022-08-05T00:00:00",
          "2022-08-04T00:00:00",
          "2022-08-03T00:00:00",
          "2022-08-02T00:00:00",
          "2022-08-01T00:00:00",
          "2022-07-29T00:00:00",
          "2022-07-28T00:00:00",
          "2022-07-27T00:00:00",
          "2022-07-26T00:00:00",
          "2022-07-25T00:00:00",
          "2022-07-22T00:00:00",
          "2022-07-21T00:00:00",
          "2022-07-20T00:00:00",
          "2022-07-19T00:00:00",
          "2022-07-18T00:00:00",
          "2022-07-15T00:00:00",
          "2022-07-14T00:00:00",
          "2022-07-13T00:00:00",
          "2022-07-12T00:00:00",
          "2022-07-11T00:00:00",
          "2022-07-08T00:00:00",
          "2022-07-07T00:00:00",
          "2022-07-06T00:00:00",
          "2022-07-05T00:00:00",
          "2022-07-01T00:00:00",
          "2022-06-30T00:00:00",
          "2022-06-29T00:00:00",
          "2022-06-28T00:00:00",
          "2022-06-27T00:00:00",
          "2022-06-24T00:00:00",
          "2022-06-23T00:00:00",
          "2022-06-22T00:00:00",
          "2022-06-21T00:00:00",
          "2022-06-17T00:00:00",
          "2022-06-16T00:00:00",
          "2022-06-15T00:00:00",
          "2022-06-14T00:00:00",
          "2022-06-13T00:00:00",
          "2022-06-10T00:00:00",
          "2022-06-09T00:00:00",
          "2022-06-08T00:00:00"
         ],
         "y": [
          147.30481377882376,
          145.8176984463502,
          139.07603812769375,
          131.72964739686444,
          131.9874249951743,
          133.13745429148258,
          130.94643916138517,
          128.95369044848368,
          132.27493312676054,
          133.63317841825727,
          135.6457454244307,
          138.6993092960895,
          141.47528146370163,
          140.91015640517526,
          136.28023635237173,
          136.07205040087803,
          134.87242917072984,
          136.58762619724,
          140.13687225540173,
          142.06021323087157,
          144.01330836068453,
          144.4198003154347,
          144.50899124937533,
          141.76280433195686,
          142.84343285685708,
          148.49451232987872,
          149.4462855947579,
          146.65047285224108,
          149.82299707471878,
          153.17401265767333,
          154.05634746224217,
          152.68819867877266,
          150.95321316994483,
          151.27047692825258,
          155.63272271480602,
          159.85616032306172,
          159.62813156545937,
          158.7259425604157,
          159.45958610051326,
          164.58522812361144,
          162.03400486765756,
          165.1712138240499,
          162.8381803407981,
          166.4717964978652,
          168.83466553112586,
          168.5963994395109,
          170.28412779213951,
          171.5350502506805,
          171.52513932195097,
          172.49806034191954,
          171.7832636955918,
          168.46731426092674,
          165.87612653973713,
          166.11441283627198,
          167.5638773115105,
          169.34099021371878,
          159.9888399437532,
          160.961799332458,
          159.15490524313924,
          155.51135739433735,
          158.5989455021974,
          155.34257364746225,
          153.70447265666442,
          153.52575691445264,
          154.3497802721592,
          158.4400982386165,
          158.7478546153366,
          153.67467577268457,
          153.53569597296436,
          150.12048596867,
          148.2341515860475,
          152.29470395440975,
          156.2063080592874,
          151.2820434173796,
          150.10063352281728,
          148.58165210914038,
          151.63945352699557,
          146.5762153120267,
          145.04729586269698,
          140.26204870597417,
          137.21414468742694,
          143.98501986213978,
          143.03192520542137,
          144.7593620905544,
          141.51294075229976,
          139.40823364257812,
          138.8919611506435,
          138.12753224319087,
          134.01734494898167,
          143.2701839201979,
          140.0535546210493,
          144.44170157280954,
          140.66907795503278,
          141.98949760284214,
          141.84057185832185,
          146.12944328745533,
          149.00853699238203,
          149.87229534480915,
          147.00311083214885,
          147.1321780334806,
          152.05641168046955,
          153.96260251928965,
          147.8767693223108,
          141.03639777878593,
          141.3001941854954,
          136.3478751955719,
          139.62953955470834,
          137.7301585954718,
          140.45493868841405,
          145.00948156877828,
          148.14194707176574,
          151.3738994594317,
          148.3010733196328,
          145.61606988959937,
          151.46340086422595,
          149.32534478513506,
          147.3066219399074,
          148.61929518113786,
          147.48562844546117,
          144.33326526479476,
          143.4879677913258,
          140.61403139798944,
          147.38617591998934,
          145.1486955541598,
          146.9486500814395,
          146.25251117267734,
          141.39965294700718,
          141.56870479823243,
          141.54880420420042,
          141.9068003319178,
          148.6690212179717,
          144.54209059311248,
          140.3256481385452,
          135.9302195981545,
          134.35900705191577,
          130.65969066726285,
          132.24085602707584,
          133.60322141261773,
          130.19228247630645,
          130.6497379025502,
          128.94923667487816,
          127.27857407322782,
          127.6962387511335,
          129.55584108752768,
          126.18469137284231,
          126.42336093468984,
          125.30959352382371,
          129.7447880223043,
          129.53595292486554,
          130.52046168208338,
          133.13583048297895,
          131.2961043638628,
          134.08055647571666,
          136.05950183967158,
          133.33472431498433,
          134.5280679288627,
          137.35225233023863,
          139.530085826483,
          140.10686269651404,
          142.3742031889364,
          142.36424352126406,
          144.15425124057808,
          141.90681752473483,
          143.16973653167372,
          148.0723331627567,
          147.20716740468873,
          151.72195437162094,
          149.80268459271556,
          153.0246891332235,
          152.92521579525825,
          148.8561766224306,
          150.3401464530594,
          151.5054161644625,
          152.49142141204047,
          152.88980037680486,
          151.7344963627943,
          149.59317925778595,
          148.26854847852871,
          149.48363206470827,
          146.51565692143686,
          147.11324462513485,
          146.4559069516034,
          146.236794214235,
          143.79669345182052,
          147.44188963835785,
          153.1686644466306,
          153.07904033317436,
          152.19264046327316,
          152.9396000232387,
          149.60313772552362,
          147.2128190287622,
          150.66882089048352,
          150.57917170176478,
          151.54525781261566,
          155.44941777627795,
          154.44352567681725,
          156.6844169965663,
          158.6564299595171,
          158.1883159582908,
          158.21818596508513,
          159.29383054631492,
          157.33179125424502,
          158.7261454936404,
          160.87740721575273,
          161.78374211751722,
          163.60635455152854,
          165.92692828271132,
          164.07444032131605,
          161.7737646425446,
          160.7678453225077,
          161.69410104147346,
          160.56865625983505,
          160.9769982954281,
          163.9250360328323,
          164.42302044195827,
          165.42895451392155,
          165.13016548549535,
          165.41896475504282,
          164.38319484384462,
          164.3333949850056,
          164.52261385717676,
          162.40121977737576,
          164.52262209040046,
          167.80928159661238,
          168.59608580404557,
          169.40281066234166,
          168.81520412378237,
          164.22382042903283,
          170.2892115835582,
          171.78315840014966,
          172.3508619892183,
          172.32098351499195,
          173.1476520055731,
          173.15774218957503,
          172.69897170529626,
          171.53208861219923,
          171.25283806768712,
          172.53939360762658,
          175.92037022008634,
          173.5167753267537,
          172.66905294851753,
          170.6344736621792,
          171.9509613713399,
          172.85853842158505,
          176.48885079669677,
          176.85784973431777,
          177.22686816825382,
          180.54800476783768,
          182.1437500536452,
          179.49082009611885,
          177.96490198364674,
          177.4263289743331,
          181.01675072800933,
          180.78736449463221,
          182.3133085147548,
          182.88177800213666,
          183.4702103217935,
          186.23282120508455,
          183.91901689338587,
          184.40769931891307,
          183.25080605253035,
          185.05597188032547,
          186.33257755204687,
          185.3950599323009,
          187.429631446172,
          188.57656845289964,
          191.1198012695657,
          193.26406367433887,
          191.0599536385693,
          189.3345450785546,
          190.900369559223,
          188.756097175468,
          188.6563805645655,
          189.1749680502115,
          189.99278226578528,
          189.7234995694156,
          191.38906376218185,
          192.83520972432768,
          192.5858761596578,
          194.57057195548003,
          193.583223081012,
          192.89504754304852,
          192.81527099305384,
          193.1543552508233,
          195.49809916471943,
          194.15169382943296,
          195.53799514590202,
          195.7175151124968,
          194.5206870567558,
          191.0599548787207,
          185.02606291154598,
          181.64507544757433,
          179.21156607716688,
          180.38841794823884,
          179.00212892052588,
          177.08670844562434,
          177.73584711043483,
          178.64464865954284,
          176.8969530245068,
          176.90694055571782,
          172.07330078860403,
          174.8396666437127,
          176.82703641390555,
          178.28512852757362,
          180.43228271341783,
          177.14662260147787,
          179.85305211015677,
          179.46356384927003,
          184.69668071395495,
          187.59285868271365,
          189.24069844642932,
          188.03227905614676,
          188.15210888725912,
          174.94951193902594,
          178.11534637728536,
          179.8330807031807,
          179.25384418348855,
          176.27775075918763,
          173.77107284808233,
          176.24779117941324,
          176.24779480310914,
          177.28643272359795,
          179.02413825465166,
          174.32035125748212,
          174.4401755841381,
          173.970796337573,
          174.58998693847352,
          172.3928704586823,
          169.1171936994851,
          171.79367303446756,
          170.9947228250154,
          172.0333568007432,
          170.86489259858558,
          173.56133385253202,
          173.57133741586642,
          176.5773617299011,
          177.86567695915278,
          177.96552989431075,
          179.83308692837295,
          181.1812956691862,
          176.5174539474347,
          176.41757374851082,
          175.34899014765352,
          175.80837998637364,
          175.07933758477537,
          170.685138104863,
          172.82232098392808,
          171.6538657387105,
          170.1458425788756,
          166.6903985036265,
          168.79761520936918,
          169.12718875588266,
          170.7750106172122,
          175.28907412436934,
          174.01075448735614,
          176.14794523268097,
          178.9442389455798,
          182.11008547723088,
          182.7192775556024,
          183.97000122070312,
          185.82000732421872,
          187.6999969482422,
          187.8500061035156,
          189.57000732421875,
          190.24999999999997,
          189.88999938964844,
          191.41000366210935,
          191.4900054931641,
          190.86999511718747,
          189.9199981689453,
          189.77999877929688,
          190.8999938964844,
          189.83999633789065,
          190.3300018310547,
          189.97999572753903,
          190.2100067138672,
          194.4499969482422,
          193.6300048828125,
          194.19999694824222,
          193.1100006103516,
          193.0800018310547,
          195.08999633789065,
          198.0200042724609,
          197.52999877929688,
          196.08999633789065,
          196.16000366210932,
          196.8999938964844,
          196.1000061035156,
          195.17999267578125,
          193.6100006103516,
          192.4900054931641,
          194.13999938964844,
          193.8999938964844,
          187.93136596679688,
          187.83653259277344,
          187.86282348632812,
          187.9901123046875,
          188.0149383544922,
          187.7300567626953,
          187.6140899658203,
          187.11766052246094,
          187.15513610839844,
          186.82337951660156,
          186.20835876464844,
          186.03472900390625,
          186.03663635253906,
          186.2375946044922,
          186.0491485595703,
          185.8661346435547,
          185.5705108642578,
          185.51449584960938,
          185.4888153076172,
          185.02833557128906,
          185.02865600585938,
          184.74545288085938,
          184.25527954101562,
          183.66851806640625,
          183.00148010253906,
          182.2783966064453,
          180.9836883544922,
          180.2269287109375,
          178.9696807861328,
          177.80938720703125,
          177.04071044921875,
          175.50502014160156,
          173.90797424316406,
          172.9471893310547,
          171.57025146484375,
          170.6987762451172,
          169.3353729248047,
          169.0498809814453,
          168.9276885986328,
          168.00286865234375,
          168.40011596679688,
          169.10598754882812,
          170.2921905517578,
          171.39678955078125,
          172.6974334716797,
          172.81558227539062,
          173.03578186035156,
          173.52679443359375,
          173.82952880859375,
          173.66957092285156,
          173.3302459716797,
          173.27670288085938,
          173.06045532226562,
          171.8448028564453,
          170.8823699951172,
          170.0437469482422,
          169.26150512695312,
          168.89781188964844,
          168.947021484375,
          168.593994140625,
          168.61619567871094,
          168.69351196289062,
          169.13369750976562,
          169.7146759033203,
          170.75836181640625,
          172.3628387451172,
          172.84046936035156,
          173.11961364746094,
          173.53672790527344,
          174.4404754638672,
          174.76995849609375,
          175.2262725830078,
          175.63674926757812,
          176.0864715576172,
          176.4412078857422,
          177.06895446777344,
          177.5076446533203,
          177.2581024169922,
          177.88980102539062,
          178.95144653320312,
          178.2081756591797,
          176.9766082763672,
          175.7046661376953,
          174.36656188964844,
          173.63931274414062,
          173.3974151611328,
          173.30393981933594,
          173.49505615234375,
          173.19625854492188,
          173.34730529785156,
          173.47506713867188,
          174.0850067138672,
          175.43692016601562,
          176.4750213623047,
          177.37841796875,
          178.23760986328125,
          179.12908935546875,
          180.5298614501953,
          181.80101013183594,
          182.9440155029297,
          184.4671173095703,
          185.818603515625,
          187.03555297851562,
          187.41012573242188,
          187.4412384033203,
          187.0544891357422,
          186.77906799316406,
          186.94110107421875,
          186.36549377441406,
          186.22134399414062,
          185.86732482910156,
          185.78062438964844,
          185.53402709960938,
          184.90345764160156,
          184.8717803955078,
          184.44960021972656,
          184.2676544189453,
          183.98501586914062,
          183.9272918701172,
          183.94334411621094,
          184.0906219482422,
          184.3816375732422,
          183.9949493408203,
          183.80239868164062,
          183.41867065429688,
          182.32139587402344,
          181.57777404785156,
          180.958984375,
          180.6860809326172,
          180.4215850830078,
          179.92440795898438,
          179.48919677734375,
          179.047119140625,
          178.76681518554688,
          178.4546661376953,
          177.7281494140625,
          177.24505615234375,
          176.7928009033203,
          176.1355743408203,
          175.60523986816406,
          175.1090850830078,
          174.7627410888672,
          174.64442443847656,
          174.59063720703125,
          173.62709045410156,
          172.6303253173828,
          172.22103881835938,
          171.7023468017578,
          171.2455596923828,
          171.4046630859375,
          171.4464874267578,
          171.7967529296875,
          171.71875,
          171.61215209960938,
          170.7627410888672,
          170.3822479248047,
          170.5634765625,
          170.38128662109375,
          170.0381622314453,
          169.50343322753906,
          168.77908325195312,
          167.87762451171875,
          167.52456665039062,
          166.51242065429688,
          165.64137268066406,
          166.20960998535156,
          165.8841552734375,
          165.45057678222656,
          164.9541778564453,
          164.1973876953125,
          163.7717742919922,
          164.09608459472656,
          163.93936157226562,
          163.443115234375,
          163.7167510986328,
          163.5758056640625,
          162.9388427734375,
          162.6212921142578,
          162.5247039794922,
          162.12779235839844,
          162.21951293945312,
          162.80322265625,
          162.48538208007812,
          162.7928924560547,
          162.50250244140625,
          161.6955108642578,
          160.9499969482422,
          159.9136199951172,
          159.7462921142578,
          158.4922332763672,
          157.8538360595703,
          157.49122619628906,
          156.52972412109375,
          155.96617126464844,
          155.28855895996094,
          154.5905303955078,
          153.6060028076172,
          152.91481018066406,
          151.2638397216797,
          151.4683837890625,
          151.76766967773438,
          150.9097900390625,
          151.97348022460938,
          151.9965057373047,
          151.42996215820312,
          150.88314819335938,
          150.0493927001953,
          149.5345001220703,
          149.6184844970703,
          150.54550170898438,
          150.82797241210938,
          151.14222717285156,
          151.46348571777344,
          152.424560546875,
          152.27291870117188,
          152.7553253173828,
          153.42489624023438,
          153.01611328125,
          151.91180419921875,
          151.13304138183594,
          150.72987365722656,
          150.40286254882812,
          150.6423797607422,
          149.54310607910156,
          148.25076293945312,
          146.93881225585938,
          144.8639373779297,
          143.7911376953125,
          141.86021423339844,
          141.34393310546875,
          140.63861083984375,
          138.76707458496094,
          137.60020446777344,
          135.50244140625,
          134.3682098388672,
          133.08091735839844,
          132.08804321289062,
          131.80557250976562,
          132.1219940185547,
          130.4174041748047,
          129.30914306640625,
          129.4582977294922,
          128.3118896484375,
          128.57199096679688,
          128.36077880859375,
          128.09771728515625,
          128.54583740234375,
          128.30503845214844,
          128.89181518554688,
          129.62904357910156,
          131.5126953125,
          133.7226104736328,
          134.98013305664062,
          135.89727783203125,
          137.6847686767578,
          138.95835876464844,
          140.3828887939453,
          142.60435485839844,
          144.3817138671875,
          145.3975067138672,
          145.99603271484375,
          145.18214416503906,
          144.4337615966797,
          145.53305053710938,
          145.5982208251953,
          146.1681671142578,
          147.03591918945312,
          146.60374450683594,
          146.48707580566406,
          146.39517211914062,
          146.15377807617188,
          147.44528198242188,
          147.15536499023438,
          148.18215942382812,
          147.54576110839844,
          146.97023010253906,
          147.1849365234375,
          146.68264770507812,
          145.56845092773438,
          146.2461395263672,
          145.9951934814453,
          144.63998413085938,
          143.7661590576172,
          142.6870574951172,
          143.76487731933594,
          144.59808349609375,
          145.27320861816406,
          146.9154052734375,
          147.39892578125,
          147.42904663085938,
          147.88937377929688,
          146.3662109375,
          145.23013305664062,
          143.77821350097656,
          143.00437927246094,
          141.572509765625,
          140.344482421875,
          139.70530700683594,
          139.45828247070312,
          139.7949981689453,
          139.32333374023438,
          139.34664916992188,
          139.44227600097656,
          139.26719665527344,
          140.89364624023438,
          142.05101013183594,
          143.20774841308594,
          143.68374633789062,
          144.90159606933594,
          145.57086181640625,
          145.55715942382812,
          146.07359313964844,
          147.6750946044922,
          149.57981872558594,
          150.5143280029297,
          151.5746612548828,
          151.9805450439453,
          152.3548126220703,
          152.70657348632812,
          153.5049285888672,
          153.15142822265625,
          153.17816162109375,
          154.9870147705078,
          155.63121032714844,
          156.37701416015625,
          157.77267456054688,
          157.83462524414062,
          158.4525909423828,
          158.93588256835938,
          159.92849731445312,
          161.78826904296875,
          162.94082641601562,
          163.87696838378906,
          165.84060668945312,
          167.1897430419922,
          167.9020233154297,
          169.04246520996094,
          168.80548095703125,
          169.24957275390625,
          169.6287384033203,
          170.05734252929688,
          170.25155639648438,
          169.5908966064453,
          168.56216430664062,
          167.45407104492188,
          166.06521606445312,
          165.08929443359375,
          164.07308959960938,
          162.1179656982422,
          160.79647827148438,
          159.8466339111328,
          159.47784423828125,
          159.08688354492188,
          157.3837890625,
          156.8483123779297,
          156.65191650390625,
          155.90611267089844,
          154.00624084472656,
          152.57382202148438,
          152.40138244628906,
          151.496337890625,
          150.43682861328125,
          149.087646484375,
          146.78677368164062,
          145.14633178710938,
          143.876953125,
          142.91122436523438,
          141.30941772460938,
          141.0277557373047,
          140.64315795898438,
          139.48434448242188,
          138.26748657226562,
          137.0200958251953,
          136.30050659179688,
          135.57046508789062,
          136.3566131591797,
          136.21783447265625,
          135.89170837402344,
          135.7811737060547,
          136.001708984375,
          135.30361938476562,
          133.8362579345703,
          133.93592834472656,
          134.5793914794922,
          135.2885284423828,
          136.08346557617188,
          137.94033813476562,
          139.80734252929688,
          141.13949584960938,
          143.00552368164062,
          143.36044311523438,
          143.3677520751953,
          142.2364959716797
         ]
        }
       ],
       "layout": {
        "plot_bgcolor": "white",
        "template": {
         "data": {
          "bar": [
           {
            "error_x": {
             "color": "#2a3f5f"
            },
            "error_y": {
             "color": "#2a3f5f"
            },
            "marker": {
             "line": {
              "color": "#E5ECF6",
              "width": 0.5
             },
             "pattern": {
              "fillmode": "overlay",
              "size": 10,
              "solidity": 0.2
             }
            },
            "type": "bar"
           }
          ],
          "barpolar": [
           {
            "marker": {
             "line": {
              "color": "#E5ECF6",
              "width": 0.5
             },
             "pattern": {
              "fillmode": "overlay",
              "size": 10,
              "solidity": 0.2
             }
            },
            "type": "barpolar"
           }
          ],
          "carpet": [
           {
            "aaxis": {
             "endlinecolor": "#2a3f5f",
             "gridcolor": "white",
             "linecolor": "white",
             "minorgridcolor": "white",
             "startlinecolor": "#2a3f5f"
            },
            "baxis": {
             "endlinecolor": "#2a3f5f",
             "gridcolor": "white",
             "linecolor": "white",
             "minorgridcolor": "white",
             "startlinecolor": "#2a3f5f"
            },
            "type": "carpet"
           }
          ],
          "choropleth": [
           {
            "colorbar": {
             "outlinewidth": 0,
             "ticks": ""
            },
            "type": "choropleth"
           }
          ],
          "contour": [
           {
            "colorbar": {
             "outlinewidth": 0,
             "ticks": ""
            },
            "colorscale": [
             [
              0,
              "#0d0887"
             ],
             [
              0.1111111111111111,
              "#46039f"
             ],
             [
              0.2222222222222222,
              "#7201a8"
             ],
             [
              0.3333333333333333,
              "#9c179e"
             ],
             [
              0.4444444444444444,
              "#bd3786"
             ],
             [
              0.5555555555555556,
              "#d8576b"
             ],
             [
              0.6666666666666666,
              "#ed7953"
             ],
             [
              0.7777777777777778,
              "#fb9f3a"
             ],
             [
              0.8888888888888888,
              "#fdca26"
             ],
             [
              1,
              "#f0f921"
             ]
            ],
            "type": "contour"
           }
          ],
          "contourcarpet": [
           {
            "colorbar": {
             "outlinewidth": 0,
             "ticks": ""
            },
            "type": "contourcarpet"
           }
          ],
          "heatmap": [
           {
            "colorbar": {
             "outlinewidth": 0,
             "ticks": ""
            },
            "colorscale": [
             [
              0,
              "#0d0887"
             ],
             [
              0.1111111111111111,
              "#46039f"
             ],
             [
              0.2222222222222222,
              "#7201a8"
             ],
             [
              0.3333333333333333,
              "#9c179e"
             ],
             [
              0.4444444444444444,
              "#bd3786"
             ],
             [
              0.5555555555555556,
              "#d8576b"
             ],
             [
              0.6666666666666666,
              "#ed7953"
             ],
             [
              0.7777777777777778,
              "#fb9f3a"
             ],
             [
              0.8888888888888888,
              "#fdca26"
             ],
             [
              1,
              "#f0f921"
             ]
            ],
            "type": "heatmap"
           }
          ],
          "heatmapgl": [
           {
            "colorbar": {
             "outlinewidth": 0,
             "ticks": ""
            },
            "colorscale": [
             [
              0,
              "#0d0887"
             ],
             [
              0.1111111111111111,
              "#46039f"
             ],
             [
              0.2222222222222222,
              "#7201a8"
             ],
             [
              0.3333333333333333,
              "#9c179e"
             ],
             [
              0.4444444444444444,
              "#bd3786"
             ],
             [
              0.5555555555555556,
              "#d8576b"
             ],
             [
              0.6666666666666666,
              "#ed7953"
             ],
             [
              0.7777777777777778,
              "#fb9f3a"
             ],
             [
              0.8888888888888888,
              "#fdca26"
             ],
             [
              1,
              "#f0f921"
             ]
            ],
            "type": "heatmapgl"
           }
          ],
          "histogram": [
           {
            "marker": {
             "pattern": {
              "fillmode": "overlay",
              "size": 10,
              "solidity": 0.2
             }
            },
            "type": "histogram"
           }
          ],
          "histogram2d": [
           {
            "colorbar": {
             "outlinewidth": 0,
             "ticks": ""
            },
            "colorscale": [
             [
              0,
              "#0d0887"
             ],
             [
              0.1111111111111111,
              "#46039f"
             ],
             [
              0.2222222222222222,
              "#7201a8"
             ],
             [
              0.3333333333333333,
              "#9c179e"
             ],
             [
              0.4444444444444444,
              "#bd3786"
             ],
             [
              0.5555555555555556,
              "#d8576b"
             ],
             [
              0.6666666666666666,
              "#ed7953"
             ],
             [
              0.7777777777777778,
              "#fb9f3a"
             ],
             [
              0.8888888888888888,
              "#fdca26"
             ],
             [
              1,
              "#f0f921"
             ]
            ],
            "type": "histogram2d"
           }
          ],
          "histogram2dcontour": [
           {
            "colorbar": {
             "outlinewidth": 0,
             "ticks": ""
            },
            "colorscale": [
             [
              0,
              "#0d0887"
             ],
             [
              0.1111111111111111,
              "#46039f"
             ],
             [
              0.2222222222222222,
              "#7201a8"
             ],
             [
              0.3333333333333333,
              "#9c179e"
             ],
             [
              0.4444444444444444,
              "#bd3786"
             ],
             [
              0.5555555555555556,
              "#d8576b"
             ],
             [
              0.6666666666666666,
              "#ed7953"
             ],
             [
              0.7777777777777778,
              "#fb9f3a"
             ],
             [
              0.8888888888888888,
              "#fdca26"
             ],
             [
              1,
              "#f0f921"
             ]
            ],
            "type": "histogram2dcontour"
           }
          ],
          "mesh3d": [
           {
            "colorbar": {
             "outlinewidth": 0,
             "ticks": ""
            },
            "type": "mesh3d"
           }
          ],
          "parcoords": [
           {
            "line": {
             "colorbar": {
              "outlinewidth": 0,
              "ticks": ""
             }
            },
            "type": "parcoords"
           }
          ],
          "pie": [
           {
            "automargin": true,
            "type": "pie"
           }
          ],
          "scatter": [
           {
            "fillpattern": {
             "fillmode": "overlay",
             "size": 10,
             "solidity": 0.2
            },
            "type": "scatter"
           }
          ],
          "scatter3d": [
           {
            "line": {
             "colorbar": {
              "outlinewidth": 0,
              "ticks": ""
             }
            },
            "marker": {
             "colorbar": {
              "outlinewidth": 0,
              "ticks": ""
             }
            },
            "type": "scatter3d"
           }
          ],
          "scattercarpet": [
           {
            "marker": {
             "colorbar": {
              "outlinewidth": 0,
              "ticks": ""
             }
            },
            "type": "scattercarpet"
           }
          ],
          "scattergeo": [
           {
            "marker": {
             "colorbar": {
              "outlinewidth": 0,
              "ticks": ""
             }
            },
            "type": "scattergeo"
           }
          ],
          "scattergl": [
           {
            "marker": {
             "colorbar": {
              "outlinewidth": 0,
              "ticks": ""
             }
            },
            "type": "scattergl"
           }
          ],
          "scattermapbox": [
           {
            "marker": {
             "colorbar": {
              "outlinewidth": 0,
              "ticks": ""
             }
            },
            "type": "scattermapbox"
           }
          ],
          "scatterpolar": [
           {
            "marker": {
             "colorbar": {
              "outlinewidth": 0,
              "ticks": ""
             }
            },
            "type": "scatterpolar"
           }
          ],
          "scatterpolargl": [
           {
            "marker": {
             "colorbar": {
              "outlinewidth": 0,
              "ticks": ""
             }
            },
            "type": "scatterpolargl"
           }
          ],
          "scatterternary": [
           {
            "marker": {
             "colorbar": {
              "outlinewidth": 0,
              "ticks": ""
             }
            },
            "type": "scatterternary"
           }
          ],
          "surface": [
           {
            "colorbar": {
             "outlinewidth": 0,
             "ticks": ""
            },
            "colorscale": [
             [
              0,
              "#0d0887"
             ],
             [
              0.1111111111111111,
              "#46039f"
             ],
             [
              0.2222222222222222,
              "#7201a8"
             ],
             [
              0.3333333333333333,
              "#9c179e"
             ],
             [
              0.4444444444444444,
              "#bd3786"
             ],
             [
              0.5555555555555556,
              "#d8576b"
             ],
             [
              0.6666666666666666,
              "#ed7953"
             ],
             [
              0.7777777777777778,
              "#fb9f3a"
             ],
             [
              0.8888888888888888,
              "#fdca26"
             ],
             [
              1,
              "#f0f921"
             ]
            ],
            "type": "surface"
           }
          ],
          "table": [
           {
            "cells": {
             "fill": {
              "color": "#EBF0F8"
             },
             "line": {
              "color": "white"
             }
            },
            "header": {
             "fill": {
              "color": "#C8D4E3"
             },
             "line": {
              "color": "white"
             }
            },
            "type": "table"
           }
          ]
         },
         "layout": {
          "annotationdefaults": {
           "arrowcolor": "#2a3f5f",
           "arrowhead": 0,
           "arrowwidth": 1
          },
          "autotypenumbers": "strict",
          "coloraxis": {
           "colorbar": {
            "outlinewidth": 0,
            "ticks": ""
           }
          },
          "colorscale": {
           "diverging": [
            [
             0,
             "#8e0152"
            ],
            [
             0.1,
             "#c51b7d"
            ],
            [
             0.2,
             "#de77ae"
            ],
            [
             0.3,
             "#f1b6da"
            ],
            [
             0.4,
             "#fde0ef"
            ],
            [
             0.5,
             "#f7f7f7"
            ],
            [
             0.6,
             "#e6f5d0"
            ],
            [
             0.7,
             "#b8e186"
            ],
            [
             0.8,
             "#7fbc41"
            ],
            [
             0.9,
             "#4d9221"
            ],
            [
             1,
             "#276419"
            ]
           ],
           "sequential": [
            [
             0,
             "#0d0887"
            ],
            [
             0.1111111111111111,
             "#46039f"
            ],
            [
             0.2222222222222222,
             "#7201a8"
            ],
            [
             0.3333333333333333,
             "#9c179e"
            ],
            [
             0.4444444444444444,
             "#bd3786"
            ],
            [
             0.5555555555555556,
             "#d8576b"
            ],
            [
             0.6666666666666666,
             "#ed7953"
            ],
            [
             0.7777777777777778,
             "#fb9f3a"
            ],
            [
             0.8888888888888888,
             "#fdca26"
            ],
            [
             1,
             "#f0f921"
            ]
           ],
           "sequentialminus": [
            [
             0,
             "#0d0887"
            ],
            [
             0.1111111111111111,
             "#46039f"
            ],
            [
             0.2222222222222222,
             "#7201a8"
            ],
            [
             0.3333333333333333,
             "#9c179e"
            ],
            [
             0.4444444444444444,
             "#bd3786"
            ],
            [
             0.5555555555555556,
             "#d8576b"
            ],
            [
             0.6666666666666666,
             "#ed7953"
            ],
            [
             0.7777777777777778,
             "#fb9f3a"
            ],
            [
             0.8888888888888888,
             "#fdca26"
            ],
            [
             1,
             "#f0f921"
            ]
           ]
          },
          "colorway": [
           "#636efa",
           "#EF553B",
           "#00cc96",
           "#ab63fa",
           "#FFA15A",
           "#19d3f3",
           "#FF6692",
           "#B6E880",
           "#FF97FF",
           "#FECB52"
          ],
          "font": {
           "color": "#2a3f5f"
          },
          "geo": {
           "bgcolor": "white",
           "lakecolor": "white",
           "landcolor": "#E5ECF6",
           "showlakes": true,
           "showland": true,
           "subunitcolor": "white"
          },
          "hoverlabel": {
           "align": "left"
          },
          "hovermode": "closest",
          "mapbox": {
           "style": "light"
          },
          "paper_bgcolor": "white",
          "plot_bgcolor": "#E5ECF6",
          "polar": {
           "angularaxis": {
            "gridcolor": "white",
            "linecolor": "white",
            "ticks": ""
           },
           "bgcolor": "#E5ECF6",
           "radialaxis": {
            "gridcolor": "white",
            "linecolor": "white",
            "ticks": ""
           }
          },
          "scene": {
           "xaxis": {
            "backgroundcolor": "#E5ECF6",
            "gridcolor": "white",
            "gridwidth": 2,
            "linecolor": "white",
            "showbackground": true,
            "ticks": "",
            "zerolinecolor": "white"
           },
           "yaxis": {
            "backgroundcolor": "#E5ECF6",
            "gridcolor": "white",
            "gridwidth": 2,
            "linecolor": "white",
            "showbackground": true,
            "ticks": "",
            "zerolinecolor": "white"
           },
           "zaxis": {
            "backgroundcolor": "#E5ECF6",
            "gridcolor": "white",
            "gridwidth": 2,
            "linecolor": "white",
            "showbackground": true,
            "ticks": "",
            "zerolinecolor": "white"
           }
          },
          "shapedefaults": {
           "line": {
            "color": "#2a3f5f"
           }
          },
          "ternary": {
           "aaxis": {
            "gridcolor": "white",
            "linecolor": "white",
            "ticks": ""
           },
           "baxis": {
            "gridcolor": "white",
            "linecolor": "white",
            "ticks": ""
           },
           "bgcolor": "#E5ECF6",
           "caxis": {
            "gridcolor": "white",
            "linecolor": "white",
            "ticks": ""
           }
          },
          "title": {
           "x": 0.05
          },
          "xaxis": {
           "automargin": true,
           "gridcolor": "white",
           "linecolor": "white",
           "ticks": "",
           "title": {
            "standoff": 15
           },
           "zerolinecolor": "white",
           "zerolinewidth": 2
          },
          "yaxis": {
           "automargin": true,
           "gridcolor": "white",
           "linecolor": "white",
           "ticks": "",
           "title": {
            "standoff": 15
           },
           "zerolinecolor": "white",
           "zerolinewidth": 2
          }
         }
        },
        "title": {
         "text": "Predicted vs Actual Over Test Data"
        },
        "xaxis": {
         "anchor": "y",
         "domain": [
          0,
          1
         ],
         "showgrid": false,
         "tickangle": 45,
         "title": {
          "text": "Date"
         }
        },
        "yaxis": {
         "anchor": "x",
         "domain": [
          0,
          1
         ],
         "showgrid": false,
         "title": {
          "text": "Value"
         }
        }
       }
      }
     },
     "metadata": {},
     "output_type": "display_data"
    }
   ],
   "source": [
    "fig = make_subplots()\n",
    "\n",
    "\n",
    "fig.add_trace(go.Scatter(x=dfPredicted['date'], y=dfPredicted['open'], \n",
    "                         mode='lines', name='Actual'))\n",
    "\n",
    "\n",
    "fig.add_trace(go.Scatter(x=dfPredicted['date'], y=dfPredicted['predictedOpen'], \n",
    "                         mode='lines', name='Predicted'))\n",
    "\n",
    "\n",
    "fig.add_trace(go.Scatter(x=dfPredicted['date'].tolist() + dfPredicted['date'].tolist()[::-1],\n",
    "                         y=dfPredicted['open'].tolist() + dfPredicted['predictedOpen'].tolist()[::-1],\n",
    "                         fill='toself',\n",
    "                         fillcolor='grey',\n",
    "                         opacity=0.3,\n",
    "                         line=dict(color='rgba(255,255,255,0)'),\n",
    "                         showlegend=False))\n",
    "\n",
    "\n",
    "fig.update_layout(title='Predicted vs Actual Over Test Data',\n",
    "                  xaxis_title='Date',\n",
    "                  yaxis_title='Value',\n",
    "                  xaxis=dict(showgrid=False),\n",
    "                  yaxis=dict(showgrid=False),\n",
    "                  plot_bgcolor=\"white\")\n",
    "\n",
    "\n",
    "fig.update_xaxes(tickangle=45)\n",
    "\n",
    "\n",
    "fig.show()"
   ]
  },
  {
   "cell_type": "code",
   "execution_count": null,
   "metadata": {},
   "outputs": [],
   "source": []
  }
 ],
 "metadata": {
  "kernelspec": {
   "display_name": "stock",
   "language": "python",
   "name": "python3"
  },
  "language_info": {
   "codemirror_mode": {
    "name": "ipython",
    "version": 3
   },
   "file_extension": ".py",
   "mimetype": "text/x-python",
   "name": "python",
   "nbconvert_exporter": "python",
   "pygments_lexer": "ipython3",
   "version": "3.11.7"
  }
 },
 "nbformat": 4,
 "nbformat_minor": 2
}
